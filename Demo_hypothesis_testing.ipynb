    "# Hypothesis-driven and discovery-driven analysis with CEBRA\n",
  {
    "!pip install 'cebra[datasets,demos]'"
    "\n",
    "from cebra import CEBRA"
   "display_name": "Python 3 (ipykernel)",
   "version": "3.9.16"

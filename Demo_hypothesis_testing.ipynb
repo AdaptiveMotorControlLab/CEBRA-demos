{
  "cells": [
    {
      "cell_type": "markdown",
      "metadata": {
        "id": "5-FcOTWwZklp"
      },
      "source": [
        "# Hypothesis-driven and discovery-driven analysis with CEBRA\n",
        "\n",
        "In this notebook, we show how to:\n",
        "\n",
        "- use CEBRA-Time and CEBRA-Behavior and CEBRA-Hybrid in an hypothesis-driven or discovery-driven analysis.\n",
        "\n",
        "- use CEBRA-Behavior more specifically in an hypothesis-driven analysis, by testing different hypothesis on positon and direction encoding. \n",
        "\n",
        "It is mostly based on what we present in [Figure 2](https://cebra.ai/docs/cebra-figures/figures/Figure2.html) in Schneider, Lee, Mathis."
      ]
    },
    {
      "cell_type": "markdown",
      "metadata": {
        "id": "pM9JRt6EZklr"
      },
      "source": [
        "## Data & Installation Note:\n",
        "- Be sure you have cebra, and the demo dependencies (such as data from [FigShare](https://figshare.com/s/60adb075234c2cc51fa3)), installed to use this notebook.\n",
        "\n",
        "### If you are using Google Colab:\n",
        "-  you can download the data directly and use. Note, the data is 2.9GB; ref link is: https://figshare.com/ndownloader/files/36869049?private_link=60adb075234c2cc51fa3"
      ]
    },
    {
      "cell_type": "code",
      "source": [
        "#for google colab only, run this cell to download and extract data:\n",
        "!wget --content-disposition https://figshare.com/ndownloader/files/36869049?private_link=60adb075234c2cc51fa3\n",
        "!mkdir data\n",
        "!tar -xvf \"/content/data.tgz\" -C \"/content/data\"  "
      ],
      "metadata": {
        "id": "yJ049yulcrHH"
      },
      "execution_count": null,
      "outputs": []
    },
    {
      "cell_type": "markdown",
      "source": [
        "# Start CEBRA Demo:"
      ],
      "metadata": {
        "id": "aJ0EDEj6d4uZ"
      }
    },
    {
      "cell_type": "code",
      "execution_count": null,
      "metadata": {
        "id": "mdR0sOfxZklr"
      },
      "outputs": [],
      "source": [
        "!pip install 'cebra[datasets,demos]'"
      ]
    },
    {
      "cell_type": "code",
      "execution_count": null,
      "metadata": {
        "id": "0dHeLYbdZkls"
      },
      "outputs": [],
      "source": [
        "import sys\n",
        "\n",
        "import numpy as np\n",
        "import matplotlib.pyplot as plt\n",
        "import cebra.datasets\n",
        "from cebra import CEBRA"
      ]
    },
    {
      "cell_type": "markdown",
      "metadata": {
        "id": "tHhZDYNAZkls"
      },
      "source": [
        "- Be sure you have downloaded the data and placed `/data` from [FigShare](https://figshare.com/s/60adb075234c2cc51fa3) and into the `demo_notebooks` directory. Let's check if it's there:"
      ]
    },
    {
      "cell_type": "markdown",
      "metadata": {
        "id": "tS62XF0-Zkls"
      },
      "source": [
        "## Load the data"
      ]
    },
    {
      "cell_type": "code",
      "execution_count": null,
      "metadata": {
        "id": "GdcBktg2Zkls"
      },
      "outputs": [],
      "source": [
        "ls"
      ]
    },
    {
      "cell_type": "code",
      "execution_count": null,
      "metadata": {
        "id": "_xrzIZQcZklt"
      },
      "outputs": [],
      "source": [
        "hippocampus_pos = cebra.datasets.init('rat-hippocampus-single-achilles')"
      ]
    },
    {
      "cell_type": "markdown",
      "metadata": {
        "id": "5_aCouj7Zklt"
      },
      "source": [
        "## CEBRA workflow: Discovery-driven and Hypothesis-driven analysis.\n",
        "\n",
        "- We will compare CEBRA-Time (discovery-driven), CEBRA-Behavior and CEBRA-Hybrid models (hypothesis-driven) as in the recommended [CEBRA workflow](https://cebra.ai/docs/usage.html#the-cebra-workflow).\n",
        "\n",
        "- We use an output dimension set to 3; in the paper we used 3-64 on the hippocampus data (and found a consistent topology across these dimensions)."
      ]
    },
    {
      "cell_type": "markdown",
      "metadata": {
        "id": "C5_91MAbZklt"
      },
      "source": [
        "**------------------- BEGINNING OF TRAINING SECTION -------------------**\n",
        "\n",
        "### Train the models\n",
        "\n",
        "*[You can skip this section if you already have the models saved]*"
      ]
    },
    {
      "cell_type": "markdown",
      "metadata": {
        "id": "zcwtB4V6Zklu"
      },
      "source": [
        "- For a quick CPU run-time demo, you can drop `max_iterations` to 100-500; otherwise set to 5000 to 10,000."
      ]
    },
    {
      "cell_type": "code",
      "execution_count": null,
      "metadata": {
        "id": "LoJppnPVZklu"
      },
      "outputs": [],
      "source": [
        "max_iterations = 100 "
      ]
    },
    {
      "cell_type": "markdown",
      "metadata": {
        "id": "ivgloQAZZklu"
      },
      "source": [
        "#### CEBRA-Time: Train a model that uses time without the behavior information. \n",
        "- We can use CEBRA -Time mode by setting conditional = 'time'"
      ]
    },
    {
      "cell_type": "code",
      "execution_count": null,
      "metadata": {
        "id": "2ACqg7w0Zklu"
      },
      "outputs": [],
      "source": [
        "cebra_time_model = CEBRA(model_architecture='offset10-model',\n",
        "                        batch_size=512,\n",
        "                        learning_rate=3e-4,\n",
        "                        temperature=1.12,\n",
        "                        output_dimension=3,\n",
        "                        max_iterations=max_iterations,\n",
        "                        distance='cosine',\n",
        "                        conditional='time',\n",
        "                        device='cuda_if_available',\n",
        "                        verbose=True,\n",
        "                        time_offsets=10)"
      ]
    },
    {
      "cell_type": "markdown",
      "metadata": {
        "id": "ILv6saGQZklu"
      },
      "source": [
        "We train the model with neural data only."
      ]
    },
    {
      "cell_type": "code",
      "execution_count": null,
      "metadata": {
        "id": "57yNkxAIZklu"
      },
      "outputs": [],
      "source": [
        "cebra_time_model.fit(hippocampus_pos.neural)\n",
        "cebra_time_model.save(\"cebra_time_model.pt\")"
      ]
    },
    {
      "cell_type": "markdown",
      "metadata": {
        "id": "KtFEYmgCZklu"
      },
      "source": [
        "#### CEBRA-Behavior: Train a model with 3D output that uses positional information (position + direction).\n",
        "- Setting conditional = 'time_delta' means we will use CEBRA-Behavior mode and use auxiliary behavior variable for the model training."
      ]
    },
    {
      "cell_type": "code",
      "execution_count": null,
      "metadata": {
        "id": "lW8ywtbBZklv"
      },
      "outputs": [],
      "source": [
        "cebra_behavior_model = CEBRA(model_architecture='offset10-model',\n",
        "                        batch_size=512,\n",
        "                        learning_rate=3e-4,\n",
        "                        temperature=1,\n",
        "                        output_dimension=3,\n",
        "                        max_iterations=max_iterations,\n",
        "                        distance='cosine',\n",
        "                        conditional='time_delta',\n",
        "                        device='cuda_if_available',\n",
        "                        verbose=True,\n",
        "                        time_offsets=10)"
      ]
    },
    {
      "cell_type": "markdown",
      "metadata": {
        "id": "JXF3J7s8Zklv"
      },
      "source": [
        "We train the model with neural data and the behavior variable including position and direction. "
      ]
    },
    {
      "cell_type": "code",
      "execution_count": null,
      "metadata": {
        "id": "czjLgMdFZklv"
      },
      "outputs": [],
      "source": [
        "cebra_behavior_model.fit(hippocampus_pos.neural, hippocampus_pos.continuous_index.numpy())\n",
        "cebra_behavior_model.save(\"cebra_behavior_model.pt\")"
      ]
    },
    {
      "cell_type": "markdown",
      "metadata": {
        "id": "EBdY8P8FZklv"
      },
      "source": [
        "#### CEBRA-Hybrid: Train a model that uses both time and positional information. "
      ]
    },
    {
      "cell_type": "code",
      "execution_count": null,
      "metadata": {
        "id": "1VtvK67xZklv"
      },
      "outputs": [],
      "source": [
        "cebra_hybrid_model = CEBRA(model_architecture='offset10-model',\n",
        "                        batch_size=512,\n",
        "                        learning_rate=3e-4,\n",
        "                        temperature=1,\n",
        "                        output_dimension=3,\n",
        "                        max_iterations=max_iterations,\n",
        "                        distance='cosine',\n",
        "                        conditional='time_delta',\n",
        "                        device='cuda_if_available',\n",
        "                        verbose=True,\n",
        "                        time_offsets=10,\n",
        "                        hybrid = True)"
      ]
    },
    {
      "cell_type": "code",
      "execution_count": null,
      "metadata": {
        "id": "72dm6NjVZklv"
      },
      "outputs": [],
      "source": [
        "cebra_hybrid_model.fit(hippocampus_pos.neural, hippocampus_pos.continuous_index.numpy())\n",
        "cebra_hybrid_model.save(\"cebra_hybrid_model.pt\")"
      ]
    },
    {
      "cell_type": "markdown",
      "metadata": {
        "id": "uyV2c0naZklw"
      },
      "source": [
        "#### CEBRA-Shuffled Behavior: Train a control model with shuffled neural data.\n",
        "- The model specification is the same as the CEBRA-Behavior above."
      ]
    },
    {
      "cell_type": "code",
      "execution_count": null,
      "metadata": {
        "id": "5wyTiukTZklw"
      },
      "outputs": [],
      "source": [
        "cebra_behavior_shuffled_model = CEBRA(model_architecture='offset10-model',\n",
        "                        batch_size=512,\n",
        "                        learning_rate=3e-4,\n",
        "                        temperature=1,\n",
        "                        output_dimension=3,\n",
        "                        max_iterations=max_iterations,\n",
        "                        distance='cosine',\n",
        "                        conditional='time_delta',\n",
        "                        device='cuda_if_available',\n",
        "                        verbose=True,\n",
        "                        time_offsets=10)"
      ]
    },
    {
      "cell_type": "markdown",
      "metadata": {
        "id": "JyUIg3G0Zklw"
      },
      "source": [
        "- Now we train the model with shuffled behavior variable. "
      ]
    },
    {
      "cell_type": "code",
      "execution_count": null,
      "metadata": {
        "id": "VgaOHkgUZklw"
      },
      "outputs": [],
      "source": [
        "# Shuffle the behavior variable and use it for training\n",
        "hippocampus_shuffled_posdir = np.random.permutation(hippocampus_pos.continuous_index.numpy())\n",
        "\n",
        "cebra_behavior_shuffled_model.fit(hippocampus_pos.neural, hippocampus_shuffled_posdir)\n",
        "cebra_behavior_shuffled_model.save(\"cebra_behavior_shuffled_model.pt\")"
      ]
    },
    {
      "cell_type": "markdown",
      "metadata": {
        "id": "pr5T9tQ0Zklw"
      },
      "source": [
        "**------------------- END OF TRAINING SECTION -------------------**\n",
        "\n",
        "### Load the models and get the corresponding embeddings"
      ]
    },
    {
      "cell_type": "code",
      "execution_count": null,
      "metadata": {
        "id": "4xiAQxtVZklw"
      },
      "outputs": [],
      "source": [
        "# CEBRA-Time\n",
        "cebra_time_model = cebra.CEBRA.load(\"cebra_time_model.pt\")\n",
        "cebra_time = cebra_time_model.transform(hippocampus_pos.neural)\n",
        "\n",
        "# CEBRA-Behavior\n",
        "cebra_behavior_model = cebra.CEBRA.load(\"cebra_behavior_model.pt\")\n",
        "cebra_behavior = cebra_behavior_model.transform(hippocampus_pos.neural)\n",
        "\n",
        "# CEBRA-Hybrid\n",
        "cebra_hybrid_model = cebra.CEBRA.load(\"cebra_hybrid_model.pt\")\n",
        "cebra_hybrid = cebra_hybrid_model.transform(hippocampus_pos.neural)\n",
        "\n",
        "# CEBRA-Behavior with shuffled labels\n",
        "cebra_behavior_shuffled_model = cebra.CEBRA.load(\"cebra_behavior_shuffled_model.pt\")\n",
        "cebra_behavior_shuffled = cebra_behavior_shuffled_model.transform(hippocampus_pos.neural)"
      ]
    },
    {
      "cell_type": "markdown",
      "metadata": {
        "id": "Rh6TF89xZklw"
      },
      "source": [
        "### Visualize the embeddings from CEBRA-Behavior, CEBRA-Time and CEBRA-Hybrid"
      ]
    },
    {
      "cell_type": "code",
      "execution_count": null,
      "metadata": {
        "id": "ZQ2T-Ib3Zklw"
      },
      "outputs": [],
      "source": [
        "right = hippocampus_pos.continuous_index[:,1] == 1\n",
        "left = hippocampus_pos.continuous_index[:,2] == 1"
      ]
    },
    {
      "cell_type": "markdown",
      "metadata": {
        "id": "nUeJG5WLZklw"
      },
      "source": [
        "**Note to Google Colaboratory users:** replace the first line of the next cell (``%matplotlib notebook``) with ``%matplotlib inline``."
      ]
    },
    {
      "cell_type": "code",
      "execution_count": null,
      "metadata": {
        "scrolled": true,
        "id": "ey8BTw3bZklw"
      },
      "outputs": [],
      "source": [
        "%matplotlib notebook\n",
        "\n",
        "fig = plt.figure(figsize=(10,2))\n",
        "\n",
        "ax1 = plt.subplot(141, projection='3d')\n",
        "ax2 = plt.subplot(142, projection='3d')\n",
        "ax3 = plt.subplot(143, projection='3d')\n",
        "ax4 = plt.subplot(144, projection='3d')\n",
        "\n",
        "for dir, cmap in zip([right, left], [\"cool\", \"viridis\"]):\n",
        "    ax1=cebra.plot_embedding(ax=ax1, embedding=cebra_behavior[dir,:], embedding_labels=hippocampus_pos.continuous_index[dir,0], title='CEBRA-Behavior', cmap=cmap)\n",
        "    ax2=cebra.plot_embedding(ax=ax2, embedding=cebra_behavior_shuffled[dir,:], embedding_labels=hippocampus_pos.continuous_index[dir,0], title='CEBRA-Shuffled', cmap=cmap)\n",
        "    ax3=cebra.plot_embedding(ax=ax3, embedding=cebra_time[dir,:], embedding_labels=hippocampus_pos.continuous_index[dir,0], title='CEBRA-Time', cmap=cmap)\n",
        "    ax4=cebra.plot_embedding(ax=ax4, embedding=cebra_hybrid[dir,:], embedding_labels=hippocampus_pos.continuous_index[dir,0], title='CEBRA-Hybrid', cmap=cmap)\n",
        "\n",
        "plt.show()"
      ]
    },
    {
      "cell_type": "markdown",
      "metadata": {
        "id": "7aig3ocbZklw"
      },
      "source": [
        "## Hypothesis testing: compare models with different hypothesis on position encoding of hippocampus\n",
        "\n",
        "- We will compare CEBRA-Behavior models trained with only position, only direction, both and the control models with shuffled behavior variables. \n",
        "\n",
        "- Here, we use the set model dimension; in the paper we used 3-64 on the hippocampus data (and found a consistent topology across these dimensions)."
      ]
    },
    {
      "cell_type": "code",
      "execution_count": null,
      "metadata": {
        "id": "4WKiM32pZklw"
      },
      "outputs": [],
      "source": [
        "def split_data(data, test_ratio):\n",
        "\n",
        "    split_idx = int(len(data)* (1-test_ratio))\n",
        "    neural_train = data.neural[:split_idx]\n",
        "    neural_test = data.neural[split_idx:]\n",
        "    label_train = data.continuous_index[:split_idx]\n",
        "    label_test = data.continuous_index[split_idx:]\n",
        "    \n",
        "    return neural_train.numpy(), neural_test.numpy(), label_train.numpy(), label_test.numpy()\n",
        "\n",
        "neural_train, neural_test, label_train, label_test = split_data(hippocampus_pos, 0.2)"
      ]
    },
    {
      "cell_type": "markdown",
      "metadata": {
        "id": "1_cacGRwZklw"
      },
      "source": [
        "**------------------- BEGINNING OF TRAINING SECTION -------------------**\n",
        "\n",
        "### Train the models\n",
        "\n",
        "*[This can be skipped if you already saved the models].*\n",
        "\n",
        "#### Train CEBRA-Behavior with position, direction variables and both."
      ]
    },
    {
      "cell_type": "code",
      "execution_count": null,
      "metadata": {
        "id": "GTsyIFcjZklx"
      },
      "outputs": [],
      "source": [
        "cebra_posdir_model = CEBRA(model_architecture='offset10-model',\n",
        "                        batch_size=512,\n",
        "                        learning_rate=3e-4,\n",
        "                        temperature=1,\n",
        "                        output_dimension=3,\n",
        "                        max_iterations=max_iterations,\n",
        "                        distance='cosine',\n",
        "                        conditional='time_delta',\n",
        "                        device='cuda_if_available',\n",
        "                        verbose=True,\n",
        "                        time_offsets=10)\n",
        "\n",
        "cebra_pos_model = CEBRA(model_architecture='offset10-model',\n",
        "                        batch_size=512,\n",
        "                        learning_rate=3e-4,\n",
        "                        temperature=1,\n",
        "                        output_dimension=3,\n",
        "                        max_iterations=max_iterations,\n",
        "                        distance='cosine',\n",
        "                        conditional='time_delta',\n",
        "                        device='cuda_if_available',\n",
        "                        verbose=True,\n",
        "                        time_offsets=10)\n",
        "\n",
        "cebra_dir_model = CEBRA(model_architecture='offset10-model',\n",
        "                        batch_size=512,\n",
        "                        learning_rate=3e-4,\n",
        "                        temperature=1,\n",
        "                        output_dimension=3,\n",
        "                        max_iterations=max_iterations,\n",
        "                        distance='cosine',\n",
        "                        device='cuda_if_available',\n",
        "                        verbose=True)"
      ]
    },
    {
      "cell_type": "code",
      "execution_count": null,
      "metadata": {
        "id": "M-qAaJQAZklx"
      },
      "outputs": [],
      "source": [
        "# Train CEBRA-Behavior models with both position and direction variables.\n",
        "cebra_posdir_model.fit(hippocampus_pos.neural, hippocampus_pos.continuous_index.numpy())\n",
        "cebra_posdir_model.save(\"cebra_posdir_model.pt\")\n",
        "\n",
        "# Train CEBRA-Behavior models with position only.\n",
        "cebra_pos_model.fit(hippocampus_pos.neural, hippocampus_pos.continuous_index.numpy()[:,0])\n",
        "cebra_pos_model.save(\"cebra_pos_model.pt\")\n",
        "\n",
        "# Train CEBRA-Behavior models with direction only.\n",
        "cebra_dir_model.fit(hippocampus_pos.neural, hippocampus_pos.continuous_index.numpy()[:,1])\n",
        "cebra_dir_model.save(\"cebra_dir_model.pt\")"
      ]
    },
    {
      "cell_type": "markdown",
      "metadata": {
        "id": "JalNc6hAZklx"
      },
      "source": [
        "#### Train control models with shuffled behavior variables. "
      ]
    },
    {
      "cell_type": "code",
      "execution_count": null,
      "metadata": {
        "id": "qBG13-JMZkl5"
      },
      "outputs": [],
      "source": [
        "cebra_posdir_shuffled_model = CEBRA(model_architecture='offset10-model',\n",
        "                        batch_size=512,\n",
        "                        learning_rate=3e-4,\n",
        "                        temperature=1,\n",
        "                        output_dimension=3,\n",
        "                        max_iterations=max_iterations,\n",
        "                        distance='cosine',\n",
        "                        conditional='time_delta',\n",
        "                        device='cuda_if_available',\n",
        "                        verbose=True,\n",
        "                        time_offsets=10)\n",
        "\n",
        "cebra_pos_shuffled_model = CEBRA(model_architecture='offset10-model',\n",
        "                        batch_size=512,\n",
        "                        learning_rate=3e-4,\n",
        "                        temperature=1,\n",
        "                        output_dimension=3,\n",
        "                        max_iterations=max_iterations,\n",
        "                        distance='cosine',\n",
        "                        conditional='time_delta',\n",
        "                        device='cuda_if_available',\n",
        "                        verbose=True,\n",
        "                        time_offsets=10)\n",
        "\n",
        "cebra_dir_shuffled_model = CEBRA(model_architecture='offset10-model',\n",
        "                        batch_size=512,\n",
        "                        learning_rate=3e-4,\n",
        "                        temperature=1,\n",
        "                        output_dimension=3,\n",
        "                        max_iterations=max_iterations,\n",
        "                        distance='cosine',\n",
        "                        device='cuda_if_available',\n",
        "                        verbose=True)"
      ]
    },
    {
      "cell_type": "code",
      "execution_count": null,
      "metadata": {
        "id": "kRjKQ37IZkl5"
      },
      "outputs": [],
      "source": [
        "# Generate shuffled behavior labels for train set.\n",
        "shuffled_posdir = np.random.permutation(hippocampus_pos.continuous_index.numpy())\n",
        "shuffled_pos = np.random.permutation(hippocampus_pos.continuous_index.numpy()[:,0])\n",
        "shuffled_dir = np.random.permutation(hippocampus_pos.continuous_index.numpy()[:,1])\n",
        "\n",
        "\n",
        "# Train the models with shuffled behavior variables\n",
        "cebra_posdir_shuffled_model.fit(hippocampus_pos.neural, shuffled_posdir)\n",
        "cebra_posdir_shuffled_model.save(\"cebra_posdir_shuffled_model.pt\")\n",
        "\n",
        "cebra_pos_shuffled_model.fit(hippocampus_pos.neural, shuffled_pos)\n",
        "cebra_pos_shuffled_model.save(\"cebra_pos_shuffled_model.pt\")\n",
        "\n",
        "cebra_dir_shuffled_model.fit(hippocampus_pos.neural, shuffled_dir)\n",
        "cebra_dir_shuffled_model.save(\"cebra_dir_shuffled_model.pt\")"
      ]
    },
    {
      "cell_type": "markdown",
      "metadata": {
        "id": "rYXR-i6qZkl5"
      },
      "source": [
        "**------------------- END OF TRAINING SECTION -------------------**\n",
        "\n",
        "### Load the model and get the corresponding embeddings"
      ]
    },
    {
      "cell_type": "code",
      "execution_count": null,
      "metadata": {
        "id": "bSo6z4X9Zkl6"
      },
      "outputs": [],
      "source": [
        "# We get train set embedding and test set embedding. \n",
        "\n",
        "cebra_posdir_model = cebra.CEBRA.load(\"cebra_posdir_model.pt\")\n",
        "cebra_posdir = cebra_posdir_model.transform(hippocampus_pos.neural)\n",
        "\n",
        "cebra_pos_model = cebra.CEBRA.load(\"cebra_pos_model.pt\")\n",
        "cebra_pos = cebra_pos_model.transform(hippocampus_pos.neural)\n",
        "\n",
        "cebra_dir_model = cebra.CEBRA.load(\"cebra_dir_model.pt\")\n",
        "cebra_dir = cebra_dir_model.transform(hippocampus_pos.neural)"
      ]
    },
    {
      "cell_type": "code",
      "execution_count": null,
      "metadata": {
        "id": "WNQ_FHrmZkl6"
      },
      "outputs": [],
      "source": [
        "# ... and similarily for models with shuffled variables\n",
        "\n",
        "cebra_posdir_shuffled_model = cebra.CEBRA.load(\"cebra_posdir_shuffled_model.pt\")\n",
        "cebra_posdir_shuffled_train = cebra_posdir_shuffled_model.transform(hippocampus_pos.neural)\n",
        "\n",
        "cebra_pos_shuffled_model = cebra.CEBRA.load(\"cebra_pos_shuffled_model.pt\")\n",
        "cebra_pos_shuffled_train = cebra_pos_shuffled_model.transform(hippocampus_pos.neural)\n",
        "\n",
        "cebra_dir_shuffled_model = cebra.CEBRA.load(\"cebra_dir_shuffled_model.pt\")\n",
        "cebra_dir_shuffled_train = cebra_dir_shuffled_model.transform(hippocampus_pos.neural)"
      ]
    },
    {
      "cell_type": "markdown",
      "metadata": {
        "id": "bmTktaNJZkl6"
      },
      "source": [
        "### Visualize embeddings from different hypothesis"
      ]
    },
    {
      "cell_type": "code",
      "execution_count": null,
      "metadata": {
        "id": "nlWLC54mZkl6"
      },
      "outputs": [],
      "source": [
        "fig=plt.figure(figsize=(9,6))\n",
        "\n",
        "ax1=plt.subplot(231, projection = '3d')\n",
        "ax2=plt.subplot(232, projection = '3d')\n",
        "ax3=plt.subplot(233, projection = '3d')\n",
        "ax4=plt.subplot(234, projection = '3d')\n",
        "ax5=plt.subplot(235, projection = '3d')\n",
        "ax6=plt.subplot(236, projection = '3d')\n",
        "\n",
        "ax1=cebra.plot_embedding(ax=ax1, embedding=cebra_pos, embedding_labels=\"grey\", title='position only')\n",
        "ax2=cebra.plot_embedding(ax=ax2, embedding=cebra_dir, embedding_labels=\"grey\", title='direction only')\n",
        "ax3=cebra.plot_embedding(ax=ax3, embedding=cebra_posdir, embedding_labels=\"grey\", title='position+direction')\n",
        "ax4=cebra.plot_embedding(ax=ax4, embedding=cebra_pos_shuffled, embedding_labels=\"grey\", title='position, shuffled')\n",
        "ax5=cebra.plot_embedding(ax=ax5, embedding=cebra_dir_shuffled, embedding_labels=\"grey\", title='direction, shuffled')\n",
        "ax6=cebra.plot_embedding(ax=ax6, embedding=cebra_posdir_shuffled, embedding_labels=\"grey\", title='pos+dir, shuffled')\n",
        "    \n",
        "plt.show()"
      ]
    },
    {
      "cell_type": "markdown",
      "metadata": {
        "id": "X_z-1KBqZkl6"
      },
      "source": [
        "### Visualize the loss of models trained with different hypothesis"
      ]
    },
    {
      "cell_type": "code",
      "execution_count": null,
      "metadata": {
        "id": "rQ20Wr0sZkl6"
      },
      "outputs": [],
      "source": [
        "fig = plt.figure(figsize=(5,5))\n",
        "ax = plt.subplot(111)\n",
        "\n",
        "ax = cebra.plot_loss(cebra_posdir_model, color='deepskyblue', label='position+direction', ax=ax)\n",
        "ax = cebra.plot_loss(cebra_pos_model, color='deepskyblue', alpha=0.3, label='position', ax=ax)\n",
        "ax = cebra.plot_loss(cebra_dir_model, color='deepskyblue', alpha=0.6,label='direction', ax=ax)\n",
        "\n",
        "ax = cebra.plot_loss(cebra_posdir_shuffled_model, color='gray', label='pos+dir, shuffled', ax=ax)\n",
        "ax = cebra.plot_loss(cebra_pos_shuffled_model, color='gray', alpha=0.3, label='position, shuffled', ax=ax)\n",
        "ax = cebra.plot_loss(cebra_dir_shuffled_model, color='gray', alpha=0.6, label='direction, shuffled', ax=ax)\n",
        "\n",
        "ax.spines['top'].set_visible(False)\n",
        "ax.spines['right'].set_visible(False)\n",
        "ax.set_xlabel('Iterations')\n",
        "ax.set_ylabel('InfoNCE Loss')\n",
        "plt.legend(bbox_to_anchor=(0.5,0.3), frameon = False)\n",
        "plt.show()"
      ]
    }
  ],
  "metadata": {
    "kernelspec": {
      "display_name": "Python 3 (ipykernel)",
      "language": "python",
      "name": "python3"
    },
    "language_info": {
      "codemirror_mode": {
        "name": "ipython",
        "version": 3
      },
      "file_extension": ".py",
      "mimetype": "text/x-python",
      "name": "python",
      "nbconvert_exporter": "python",
      "pygments_lexer": "ipython3",
      "version": "3.9.16"
    },
    "colab": {
      "provenance": []
    }
  },
  "nbformat": 4,
  "nbformat_minor": 0
}
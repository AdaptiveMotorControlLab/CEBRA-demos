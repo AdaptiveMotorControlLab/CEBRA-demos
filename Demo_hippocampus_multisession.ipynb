{
 "cells": [
  {
   "cell_type": "markdown",
   "metadata": {},
   "source": [
   ]
  },
  {
   "cell_type": "markdown",
   "metadata": {},
   "source": [
    "* This notebook will demo how to use a multisession CEBRA implementation.\n",
    "* We will compare embeddings obtained on 4 rat datasets when trained on four single-session models vs. one multisession model.\n",
    "* We will use CEBRA-Behavior (``conditional='time_delta'``) for both single and multi session implementation.\n",
    "* Each individual single session output embedding is aligned to the first session.\n",
    "\n",
    "\n",
    "\n",
    "* For flexibility, it is implemented so that it does not fit one model for all sessions. Consequently, it is possible to use sessions that do not have the same number of data features (e.g., not the same number of neurons from one session to the other). The number of samples can also vary (true for single session too).\n",
    "* It fits one model per session but the pos/neg sampling is performed across all sessions, making the models invariant to the labels across all sessions.\n",
    "\n",
    "\n",
    "\n",
    "Check out the following list to verify if our multisession implementation is the right tool for your needs.\n",
    "\n",
    "* I have multiple sessions or animals that I want to consider as a *pseudo-subject* and use them jointly for training CEBRA. \n",
    "* That is the case because of limited access to simultaneously recorded neurons or looking for animal-invariant features in the neural data. \n",
    "* I want to get more consistent embeddings from one session or animal to the other. \n",
    "* I want to be able to use CEBRA for a new session that is fully *unseen* during training (e.g., could be useful for a brain machine interface applications).\n",
  {
    "!pip install 'cebra[datasets,demos]'"
   ]
  },
  {
   "cell_type": "code",
   "metadata": {},
   "outputs": [],
   "source": [
    "import sys\n",
    "\n",
    "import matplotlib.pyplot as plt\n",
    "import cebra.data\n",
    "import cebra.datasets\n",
    "import cebra.integrations\n",
    "from cebra import CEBRA\n",
    "import matplotlib.pyplot as plt\n",
    "import pickle"
   ]
  },
  {
   "cell_type": "markdown",
   "metadata": {},
   "source": [
   ]
  },
  {
   "cell_type": "code",
   "metadata": {},
   "outputs": [
    {
     "name": "stdout",
     "output_type": "stream",
     "text": [
     ]
    }
   ],
   "source": [
   ]
  },
  {
   "cell_type": "markdown",
   "metadata": {},
   "source": [
    "## Load the data"
   ]
  },
  {
   "cell_type": "code",
   "metadata": {},
   "outputs": [],
   "source": [
    "hippocampus_a = cebra.datasets.init('rat-hippocampus-single-achilles')\n",
    "hippocampus_b = cebra.datasets.init('rat-hippocampus-single-buddy')\n",
    "hippocampus_c = cebra.datasets.init('rat-hippocampus-single-cicero')\n",
    "hippocampus_g = cebra.datasets.init('rat-hippocampus-single-gatsby')"
   ]
  },
  {
   "cell_type": "code",
   "metadata": {},
   "outputs": [],
   "source": [
    "names = [\"achilles\", \"buddy\", \"cicero\", \"gatsby\"]\n",
    "datas = [hippocampus_a.neural.numpy(), hippocampus_b.neural.numpy(), hippocampus_c.neural.numpy(), hippocampus_g.neural.numpy()]\n",
    "labels = [hippocampus_a.continuous_index.numpy(), hippocampus_b.continuous_index.numpy(), hippocampus_c.continuous_index.numpy(), hippocampus_g.continuous_index.numpy()]"
   ]
  },
  {
   "cell_type": "markdown",
   "metadata": {},
   "source": [
   ]
  },
  {
   "cell_type": "code",
   "metadata": {},
   "outputs": [],
   "source": [
   ]
  },
  {
   "cell_type": "code",
   "metadata": {},
   "outputs": [
    {
     "name": "stdout",
     "output_type": "stream",
     "text": [
      "Fitting CEBRA for achilles\n"
     ]
    },
    {
     "name": "stderr",
     "output_type": "stream",
     "text": [
     ]
    },
    {
     "name": "stdout",
     "output_type": "stream",
     "text": [
      "Fitting CEBRA for buddy\n"
     ]
    },
    {
     "name": "stderr",
     "output_type": "stream",
     "text": [
     ]
    },
    {
     "name": "stdout",
     "output_type": "stream",
     "text": [
      "Fitting CEBRA for cicero\n"
     ]
    },
    {
     "name": "stderr",
     "output_type": "stream",
     "text": [
     ]
    },
    {
     "name": "stdout",
     "output_type": "stream",
     "text": [
      "Fitting CEBRA for gatsby\n"
     ]
    },
    {
     "name": "stderr",
     "output_type": "stream",
     "text": [
     ]
    }
   ],
   "source": [
    "embeddings = dict()\n",
    "\n",
    "# Single session training\n",
    "for name, X, y in zip(names, datas, labels):\n",
    "    # Fit one CEBRA model per session (i.e., per rat)\n",
    "    print(f\"Fitting CEBRA for {name}\")\n",
    "    cebra_model = CEBRA(model_architecture='offset10-model',\n",
    "                        batch_size=512,\n",
    "                        learning_rate=3e-4,\n",
    "                        temperature=1,\n",
    "                        output_dimension=3,\n",
    "                        max_iterations=max_iterations,\n",
    "                        distance='cosine',\n",
    "                        conditional='time_delta',\n",
    "                        device='cuda_if_available',\n",
    "                        verbose=True,\n",
    "                        time_offsets=10)\n",
    "\n",
    "    cebra_model.fit(X, y)\n",
    "    embeddings[name] = cebra_model.transform(X)\n",
    "\n",
    "\n",
    "# Align the single session embeddings to the first rat\n",
    "alignment = cebra.data.helper.OrthogonalProcrustesAlignment()\n",
    "first_rat = list(embeddings.keys())[0]\n",
    "\n",
    "for j, rat_name in enumerate(list(embeddings.keys())[1:]):\n",
    "    embeddings[f\"{rat_name}\"] = alignment.fit_transform(\n",
    "        embeddings[first_rat], embeddings[rat_name], labels[0], labels[j+1])\n",
    "\n",
    "\n",
    "# Save embeddings in current folder\n",
    "with open('embeddings.pkl', 'wb') as f:\n",
    "    pickle.dump(embeddings, f)\n"
   ]
  },
  {
   "cell_type": "markdown",
   "metadata": {},
   "source": [
   ]
  },
  {
   "cell_type": "code",
   "metadata": {},
   "outputs": [
    {
     "name": "stderr",
     "output_type": "stream",
     "text": [
     ]
    }
   ],
   "source": [
    "multi_embeddings = dict()\n",
    "\n",
    "# Multisession training\n",
    "multi_cebra_model = CEBRA(model_architecture='offset10-model',\n",
    "                    batch_size=512,\n",
    "                    learning_rate=3e-4,\n",
    "                    temperature=1,\n",
    "                    output_dimension=3,\n",
    "                    max_iterations=max_iterations,\n",
    "                    distance='cosine',\n",
    "                    conditional='time_delta',\n",
    "                    device='cuda_if_available',\n",
    "                    verbose=True,\n",
    "                    time_offsets=10)\n",
    "\n",
    "# Provide a list of data, i.e. datas = [data_a, data_b, ...]\n",
    "multi_cebra_model.fit(datas, labels)\n",
    "\n",
    "# Transform each session with the right model, by providing the corresponding session ID\n",
    "for i, (name, X) in enumerate(zip(names, datas)):\n",
    "    multi_embeddings[name] = multi_cebra_model.transform(X, session_id=i)\n",
    "\n",
    "# Save embeddings in current folder\n",
    "with open('multi_embeddings.pkl', 'wb') as f:\n",
    "    pickle.dump(multi_embeddings, f)"
   ]
  },
  {
   "cell_type": "markdown",
   "metadata": {},
   "source": [
    "## Compare embeddings\n",
    "\n",
   ]
  },
  {
   "cell_type": "code",
   "metadata": {},
   "outputs": [],
   "source": [
    "with open('embeddings.pkl', 'rb') as f:\n",
    "    embeddings = pickle.load(f)\n",
    "with open('multi_embeddings.pkl', 'rb') as f:\n",
    "    multi_embeddings = pickle.load(f)"
   ]
  },
  {
   "cell_type": "code",
   "metadata": {},
   "outputs": [],
   "source": [
    "def plot_hippocampus(ax, embedding, label, gray = False, idx_order = (0,1,2)):\n",
    "    r_ind = label[:,1] == 1\n",
    "    l_ind = label[:,2] == 1\n",
    "    \n",
    "    if not gray:\n",
    "        r_cmap = 'cool'\n",
    "        l_cmap = 'viridis'\n",
    "        r_c = label[r_ind, 0]\n",
    "        l_c = label[l_ind, 0]\n",
    "    else:\n",
    "        r_cmap = None\n",
    "        l_cmap = None\n",
    "        r_c = 'gray'\n",
    "        l_c = 'gray'\n",
    "    \n",
    "    idx1, idx2, idx3 = idx_order\n",
    "    r=ax.scatter(embedding [r_ind,idx1], \n",
    "               embedding [r_ind,idx2], \n",
    "               embedding [r_ind,idx3], \n",
    "               c=r_c,\n",
    "               cmap=r_cmap, s=0.05, alpha=0.75)\n",
    "    l=ax.scatter(embedding [l_ind,idx1], \n",
    "               embedding [l_ind,idx2], \n",
    "               embedding [l_ind,idx3], \n",
    "               c=l_c,\n",
    "               cmap=l_cmap, s=0.05, alpha=0.75)\n",
    "    \n",
    "    ax.grid(False)\n",
    "    ax.xaxis.pane.fill = False\n",
    "    ax.yaxis.pane.fill = False\n",
    "    ax.zaxis.pane.fill = False\n",
    "    ax.xaxis.pane.set_edgecolor('w')\n",
    "    ax.yaxis.pane.set_edgecolor('w')\n",
    "    ax.zaxis.pane.set_edgecolor('w')\n",
    "        \n",
    "    return ax"
   ]
  },
  {
   "cell_type": "code",
   "metadata": {},
   "outputs": [
    {
     "data": {
      "text/plain": [
      ]
     },
     "metadata": {},
     "output_type": "display_data"
    }
   ],
   "source": [
    "\n",
    "ax1 = plt.subplot(241, projection='3d')\n",
    "ax2 = plt.subplot(242, projection='3d')\n",
    "ax3 = plt.subplot(243, projection='3d')\n",
    "ax4 = plt.subplot(244, projection='3d')\n",
    "axs = [ax1, ax2, ax3, ax4]\n",
    "\n",
    "ax5 = plt.subplot(245, projection='3d')\n",
    "ax6 = plt.subplot(246, projection='3d')\n",
    "ax7 = plt.subplot(247, projection='3d')\n",
    "ax8 = plt.subplot(248, projection='3d')\n",
    "axs_multi = [ax5, ax6, ax7, ax8]\n",
    "\n",
    "for name, label, ax, ax_multi in zip(names, labels, axs, axs_multi):\n",
    "    ax = plot_hippocampus(ax, embeddings[name], label)\n",
    "    ax.set_title(f'Single-{name}', y=1, pad=-20)\n",
    "    ax.axis('off')\n",
    "    ax_multi = plot_hippocampus(ax_multi, multi_embeddings[name], label)\n",
    "    ax_multi.set_title(f'Multi-{name}', y=1, pad=-20)\n",
    "    ax_multi.axis('off')\n",
    "    \n",
    "    \n",
    "plt.subplots_adjust(wspace=0,\n",
    "                    hspace=0)\n",
    "plt.show()"
   ]
  }
 ],
 "metadata": {
  "kernelspec": {
   "display_name": "Python 3 (ipykernel)",
   "language": "python",
  },
  "language_info": {
   "codemirror_mode": {
    "name": "ipython",
    "version": 3
   },
   "file_extension": ".py",
   "mimetype": "text/x-python",
   "name": "python",
   "nbconvert_exporter": "python",
   "pygments_lexer": "ipython3",
   "version": "3.9.16"
  },
  "vscode": {
   "interpreter": {
   }
  }
 },
 "nbformat": 4,
 "nbformat_minor": 2
}

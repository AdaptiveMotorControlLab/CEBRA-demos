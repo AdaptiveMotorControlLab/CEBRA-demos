{
 "cells": [
  {
   "cell_type": "markdown",
   "metadata": {},
   "source": [
    "# Technical: Training models across animals"
   ]
  },
  {
   "attachments": {},
   "cell_type": "markdown",
   "metadata": {},
   "source": [
    "* This notebook will demo how to use a multisession CEBRA implementation.\n",
    "* We will compare embeddings obtained on 4 rat datasets when trained on four single-session models vs. one multisession model.\n",
    "* We will use CEBRA-Behavior (``conditional='time_delta'``) for both single and multi session implementation.\n",
    "* Each individual single session output embedding is aligned to the first session.\n",
    "\n",
    "\n",
    "**How multi-session training works:**\n",
    "\n",
    "* For flexibility, it is implemented so that it does not fit one model for all sessions. Consequently, it is possible to use sessions that do not have the same number of data features (e.g., not the same number of neurons from one session to the other). The number of samples can also vary (true for single session too).\n",
    "* It fits one model per session but the pos/neg sampling is performed across all sessions, making the models invariant to the labels across all sessions.\n",
    "\n",
    "\n",
    "**When to use multi-session training:**\n",
    "\n",
    "Check out the following list to verify if our multisession implementation is the right tool for your needs.\n",
    "\n",
    "* I have multiple sessions or animals that I want to consider as a *pseudo-subject* and use them jointly for training CEBRA. \n",
    "* That is the case because of limited access to simultaneously recorded neurons or looking for animal-invariant features in the neural data. \n",
    "* I want to get more consistent embeddings from one session or animal to the other. \n",
    "* I want to be able to use CEBRA for a new session that is fully *unseen* during training (e.g., could be useful for a brain machine interface applications).\n",
    "* **WARNING:** I am not interested in the influence of individual variations of the label features from one session/animal to the other on the resulting embedding. I do not need those session or animal specific information.\n"
   ]
  },
  {
   "attachments": {},
   "cell_type": "markdown",
   "metadata": {},
   "source": [
    "**Install note** \n",
    "\n",
    "Be sure you have cebra, and the demo dependencies, installed to use this notebook: "
   ]
  },
  {
   "cell_type": "code",
   "execution_count": 1,
   "metadata": {},
   "outputs": [
    {
     "name": "stdout",
     "output_type": "stream",
     "text": [
      "Requirement already satisfied: cebra[datasets,demos] in /home/rodrigo/miniconda/miniconda/envs/cebra/lib/python3.8/site-packages (0.2.0)\n",
      "Requirement already satisfied: joblib in /home/rodrigo/miniconda/miniconda/envs/cebra/lib/python3.8/site-packages (from cebra[datasets,demos]) (1.3.2)\n",
      "Requirement already satisfied: literate-dataclasses in /home/rodrigo/miniconda/miniconda/envs/cebra/lib/python3.8/site-packages (from cebra[datasets,demos]) (0.0.6)\n",
      "Requirement already satisfied: scikit-learn in /home/rodrigo/miniconda/miniconda/envs/cebra/lib/python3.8/site-packages (from cebra[datasets,demos]) (1.3.0)\n",
      "Requirement already satisfied: scipy in /home/rodrigo/miniconda/miniconda/envs/cebra/lib/python3.8/site-packages (from cebra[datasets,demos]) (1.10.1)\n",
      "Requirement already satisfied: torch in /home/rodrigo/miniconda/miniconda/envs/cebra/lib/python3.8/site-packages (from cebra[datasets,demos]) (2.0.1)\n",
      "Requirement already satisfied: tqdm in /home/rodrigo/miniconda/miniconda/envs/cebra/lib/python3.8/site-packages (from cebra[datasets,demos]) (4.66.1)\n",
      "Requirement already satisfied: matplotlib in /home/rodrigo/miniconda/miniconda/envs/cebra/lib/python3.8/site-packages (from cebra[datasets,demos]) (3.7.2)\n",
      "Requirement already satisfied: requests in /home/rodrigo/miniconda/miniconda/envs/cebra/lib/python3.8/site-packages (from cebra[datasets,demos]) (2.31.0)\n",
      "Requirement already satisfied: ipykernel in /home/rodrigo/miniconda/miniconda/envs/cebra/lib/python3.8/site-packages (from cebra[datasets,demos]) (6.25.2)\n",
      "Requirement already satisfied: jupyter in /home/rodrigo/miniconda/miniconda/envs/cebra/lib/python3.8/site-packages (from cebra[datasets,demos]) (1.0.0)\n",
      "Requirement already satisfied: nbconvert in /home/rodrigo/miniconda/miniconda/envs/cebra/lib/python3.8/site-packages (from cebra[datasets,demos]) (7.8.0)\n",
      "Requirement already satisfied: seaborn in /home/rodrigo/miniconda/miniconda/envs/cebra/lib/python3.8/site-packages (from cebra[datasets,demos]) (0.12.2)\n",
      "Requirement already satisfied: h5py in /home/rodrigo/miniconda/miniconda/envs/cebra/lib/python3.8/site-packages (from cebra[datasets,demos]) (3.9.0)\n",
      "Requirement already satisfied: pandas in /home/rodrigo/miniconda/miniconda/envs/cebra/lib/python3.8/site-packages (from cebra[datasets,demos]) (2.0.3)\n",
      "Requirement already satisfied: hdf5storage in /home/rodrigo/miniconda/miniconda/envs/cebra/lib/python3.8/site-packages (from cebra[datasets,demos]) (0.1.19)\n",
      "Requirement already satisfied: openpyxl in /home/rodrigo/miniconda/miniconda/envs/cebra/lib/python3.8/site-packages (from cebra[datasets,demos]) (3.1.2)\n",
      "Requirement already satisfied: numpy>=1.17.3 in /home/rodrigo/miniconda/miniconda/envs/cebra/lib/python3.8/site-packages (from h5py->cebra[datasets,demos]) (1.24.4)\n",
      "Requirement already satisfied: comm>=0.1.1 in /home/rodrigo/miniconda/miniconda/envs/cebra/lib/python3.8/site-packages (from ipykernel->cebra[datasets,demos]) (0.1.4)\n",
      "Requirement already satisfied: debugpy>=1.6.5 in /home/rodrigo/miniconda/miniconda/envs/cebra/lib/python3.8/site-packages (from ipykernel->cebra[datasets,demos]) (1.6.8)\n",
      "Requirement already satisfied: ipython>=7.23.1 in /home/rodrigo/miniconda/miniconda/envs/cebra/lib/python3.8/site-packages (from ipykernel->cebra[datasets,demos]) (8.12.0)\n",
      "Requirement already satisfied: jupyter-client>=6.1.12 in /home/rodrigo/miniconda/miniconda/envs/cebra/lib/python3.8/site-packages (from ipykernel->cebra[datasets,demos]) (8.3.1)\n",
      "Requirement already satisfied: jupyter-core!=5.0.*,>=4.12 in /home/rodrigo/miniconda/miniconda/envs/cebra/lib/python3.8/site-packages (from ipykernel->cebra[datasets,demos]) (4.12.0)\n",
      "Requirement already satisfied: matplotlib-inline>=0.1 in /home/rodrigo/miniconda/miniconda/envs/cebra/lib/python3.8/site-packages (from ipykernel->cebra[datasets,demos]) (0.1.6)\n",
      "Requirement already satisfied: nest-asyncio in /home/rodrigo/miniconda/miniconda/envs/cebra/lib/python3.8/site-packages (from ipykernel->cebra[datasets,demos]) (1.5.6)\n",
      "Requirement already satisfied: packaging in /home/rodrigo/miniconda/miniconda/envs/cebra/lib/python3.8/site-packages (from ipykernel->cebra[datasets,demos]) (23.1)\n",
      "Requirement already satisfied: psutil in /home/rodrigo/miniconda/miniconda/envs/cebra/lib/python3.8/site-packages (from ipykernel->cebra[datasets,demos]) (5.9.5)\n",
      "Requirement already satisfied: pyzmq>=20 in /home/rodrigo/miniconda/miniconda/envs/cebra/lib/python3.8/site-packages (from ipykernel->cebra[datasets,demos]) (25.1.1)\n",
      "Requirement already satisfied: tornado>=6.1 in /home/rodrigo/miniconda/miniconda/envs/cebra/lib/python3.8/site-packages (from ipykernel->cebra[datasets,demos]) (6.3.3)\n",
      "Requirement already satisfied: traitlets>=5.4.0 in /home/rodrigo/miniconda/miniconda/envs/cebra/lib/python3.8/site-packages (from ipykernel->cebra[datasets,demos]) (5.9.0)\n",
      "Requirement already satisfied: notebook in /home/rodrigo/miniconda/miniconda/envs/cebra/lib/python3.8/site-packages (from jupyter->cebra[datasets,demos]) (7.0.3)\n",
      "Requirement already satisfied: qtconsole in /home/rodrigo/miniconda/miniconda/envs/cebra/lib/python3.8/site-packages (from jupyter->cebra[datasets,demos]) (5.4.4)\n",
      "Requirement already satisfied: jupyter-console in /home/rodrigo/miniconda/miniconda/envs/cebra/lib/python3.8/site-packages (from jupyter->cebra[datasets,demos]) (6.6.3)\n",
      "Requirement already satisfied: ipywidgets in /home/rodrigo/miniconda/miniconda/envs/cebra/lib/python3.8/site-packages (from jupyter->cebra[datasets,demos]) (8.1.0)\n",
      "Requirement already satisfied: contourpy>=1.0.1 in /home/rodrigo/miniconda/miniconda/envs/cebra/lib/python3.8/site-packages (from matplotlib->cebra[datasets,demos]) (1.1.0)\n",
      "Requirement already satisfied: cycler>=0.10 in /home/rodrigo/miniconda/miniconda/envs/cebra/lib/python3.8/site-packages (from matplotlib->cebra[datasets,demos]) (0.11.0)\n",
      "Requirement already satisfied: fonttools>=4.22.0 in /home/rodrigo/miniconda/miniconda/envs/cebra/lib/python3.8/site-packages (from matplotlib->cebra[datasets,demos]) (4.42.1)\n",
      "Requirement already satisfied: kiwisolver>=1.0.1 in /home/rodrigo/miniconda/miniconda/envs/cebra/lib/python3.8/site-packages (from matplotlib->cebra[datasets,demos]) (1.4.5)\n",
      "Requirement already satisfied: pillow>=6.2.0 in /home/rodrigo/miniconda/miniconda/envs/cebra/lib/python3.8/site-packages (from matplotlib->cebra[datasets,demos]) (10.0.0)\n",
      "Requirement already satisfied: pyparsing<3.1,>=2.3.1 in /home/rodrigo/miniconda/miniconda/envs/cebra/lib/python3.8/site-packages (from matplotlib->cebra[datasets,demos]) (3.0.9)\n",
      "Requirement already satisfied: python-dateutil>=2.7 in /home/rodrigo/miniconda/miniconda/envs/cebra/lib/python3.8/site-packages (from matplotlib->cebra[datasets,demos]) (2.8.2)\n",
      "Requirement already satisfied: importlib-resources>=3.2.0 in /home/rodrigo/miniconda/miniconda/envs/cebra/lib/python3.8/site-packages (from matplotlib->cebra[datasets,demos]) (6.0.1)\n",
      "Requirement already satisfied: beautifulsoup4 in /home/rodrigo/miniconda/miniconda/envs/cebra/lib/python3.8/site-packages (from nbconvert->cebra[datasets,demos]) (4.12.2)\n",
      "Requirement already satisfied: bleach!=5.0.0 in /home/rodrigo/miniconda/miniconda/envs/cebra/lib/python3.8/site-packages (from nbconvert->cebra[datasets,demos]) (6.0.0)\n",
      "Requirement already satisfied: defusedxml in /home/rodrigo/miniconda/miniconda/envs/cebra/lib/python3.8/site-packages (from nbconvert->cebra[datasets,demos]) (0.7.1)\n",
      "Requirement already satisfied: importlib-metadata>=3.6 in /home/rodrigo/miniconda/miniconda/envs/cebra/lib/python3.8/site-packages (from nbconvert->cebra[datasets,demos]) (6.8.0)\n",
      "Requirement already satisfied: jinja2>=3.0 in /home/rodrigo/miniconda/miniconda/envs/cebra/lib/python3.8/site-packages (from nbconvert->cebra[datasets,demos]) (3.1.2)\n",
      "Requirement already satisfied: jupyterlab-pygments in /home/rodrigo/miniconda/miniconda/envs/cebra/lib/python3.8/site-packages (from nbconvert->cebra[datasets,demos]) (0.2.2)\n",
      "Requirement already satisfied: markupsafe>=2.0 in /home/rodrigo/miniconda/miniconda/envs/cebra/lib/python3.8/site-packages (from nbconvert->cebra[datasets,demos]) (2.1.3)\n",
      "Requirement already satisfied: mistune<4,>=2.0.3 in /home/rodrigo/miniconda/miniconda/envs/cebra/lib/python3.8/site-packages (from nbconvert->cebra[datasets,demos]) (3.0.1)\n",
      "Requirement already satisfied: nbclient>=0.5.0 in /home/rodrigo/miniconda/miniconda/envs/cebra/lib/python3.8/site-packages (from nbconvert->cebra[datasets,demos]) (0.8.0)\n",
      "Requirement already satisfied: nbformat>=5.7 in /home/rodrigo/miniconda/miniconda/envs/cebra/lib/python3.8/site-packages (from nbconvert->cebra[datasets,demos]) (5.9.2)\n",
      "Requirement already satisfied: pandocfilters>=1.4.1 in /home/rodrigo/miniconda/miniconda/envs/cebra/lib/python3.8/site-packages (from nbconvert->cebra[datasets,demos]) (1.5.0)\n",
      "Requirement already satisfied: pygments>=2.4.1 in /home/rodrigo/miniconda/miniconda/envs/cebra/lib/python3.8/site-packages (from nbconvert->cebra[datasets,demos]) (2.16.1)\n",
      "Requirement already satisfied: tinycss2 in /home/rodrigo/miniconda/miniconda/envs/cebra/lib/python3.8/site-packages (from nbconvert->cebra[datasets,demos]) (1.2.1)\n",
      "Requirement already satisfied: et-xmlfile in /home/rodrigo/miniconda/miniconda/envs/cebra/lib/python3.8/site-packages (from openpyxl->cebra[datasets,demos]) (1.1.0)\n",
      "Requirement already satisfied: pytz>=2020.1 in /home/rodrigo/miniconda/miniconda/envs/cebra/lib/python3.8/site-packages (from pandas->cebra[datasets,demos]) (2023.3.post1)\n",
      "Requirement already satisfied: tzdata>=2022.1 in /home/rodrigo/miniconda/miniconda/envs/cebra/lib/python3.8/site-packages (from pandas->cebra[datasets,demos]) (2023.3)\n",
      "Requirement already satisfied: charset-normalizer<4,>=2 in /home/rodrigo/miniconda/miniconda/envs/cebra/lib/python3.8/site-packages (from requests->cebra[datasets,demos]) (3.2.0)\n",
      "Requirement already satisfied: idna<4,>=2.5 in /home/rodrigo/miniconda/miniconda/envs/cebra/lib/python3.8/site-packages (from requests->cebra[datasets,demos]) (3.4)\n",
      "Requirement already satisfied: urllib3<3,>=1.21.1 in /home/rodrigo/miniconda/miniconda/envs/cebra/lib/python3.8/site-packages (from requests->cebra[datasets,demos]) (2.0.4)\n",
      "Requirement already satisfied: certifi>=2017.4.17 in /home/rodrigo/miniconda/miniconda/envs/cebra/lib/python3.8/site-packages (from requests->cebra[datasets,demos]) (2023.7.22)\n",
      "Requirement already satisfied: threadpoolctl>=2.0.0 in /home/rodrigo/miniconda/miniconda/envs/cebra/lib/python3.8/site-packages (from scikit-learn->cebra[datasets,demos]) (3.2.0)\n",
      "Requirement already satisfied: filelock in /home/rodrigo/miniconda/miniconda/envs/cebra/lib/python3.8/site-packages (from torch->cebra[datasets,demos]) (3.12.3)\n",
      "Requirement already satisfied: typing-extensions in /home/rodrigo/miniconda/miniconda/envs/cebra/lib/python3.8/site-packages (from torch->cebra[datasets,demos]) (4.7.1)\n",
      "Requirement already satisfied: sympy in /home/rodrigo/miniconda/miniconda/envs/cebra/lib/python3.8/site-packages (from torch->cebra[datasets,demos]) (1.12)\n",
      "Requirement already satisfied: networkx in /home/rodrigo/miniconda/miniconda/envs/cebra/lib/python3.8/site-packages (from torch->cebra[datasets,demos]) (3.1)\n",
      "Requirement already satisfied: nvidia-cuda-nvrtc-cu11==11.7.99 in /home/rodrigo/miniconda/miniconda/envs/cebra/lib/python3.8/site-packages (from torch->cebra[datasets,demos]) (11.7.99)\n",
      "Requirement already satisfied: nvidia-cuda-runtime-cu11==11.7.99 in /home/rodrigo/miniconda/miniconda/envs/cebra/lib/python3.8/site-packages (from torch->cebra[datasets,demos]) (11.7.99)\n",
      "Requirement already satisfied: nvidia-cuda-cupti-cu11==11.7.101 in /home/rodrigo/miniconda/miniconda/envs/cebra/lib/python3.8/site-packages (from torch->cebra[datasets,demos]) (11.7.101)\n",
      "Requirement already satisfied: nvidia-cudnn-cu11==8.5.0.96 in /home/rodrigo/miniconda/miniconda/envs/cebra/lib/python3.8/site-packages (from torch->cebra[datasets,demos]) (8.5.0.96)\n",
      "Requirement already satisfied: nvidia-cublas-cu11==11.10.3.66 in /home/rodrigo/miniconda/miniconda/envs/cebra/lib/python3.8/site-packages (from torch->cebra[datasets,demos]) (11.10.3.66)\n",
      "Requirement already satisfied: nvidia-cufft-cu11==10.9.0.58 in /home/rodrigo/miniconda/miniconda/envs/cebra/lib/python3.8/site-packages (from torch->cebra[datasets,demos]) (10.9.0.58)\n",
      "Requirement already satisfied: nvidia-curand-cu11==10.2.10.91 in /home/rodrigo/miniconda/miniconda/envs/cebra/lib/python3.8/site-packages (from torch->cebra[datasets,demos]) (10.2.10.91)\n",
      "Requirement already satisfied: nvidia-cusolver-cu11==11.4.0.1 in /home/rodrigo/miniconda/miniconda/envs/cebra/lib/python3.8/site-packages (from torch->cebra[datasets,demos]) (11.4.0.1)\n",
      "Requirement already satisfied: nvidia-cusparse-cu11==11.7.4.91 in /home/rodrigo/miniconda/miniconda/envs/cebra/lib/python3.8/site-packages (from torch->cebra[datasets,demos]) (11.7.4.91)\n",
      "Requirement already satisfied: nvidia-nccl-cu11==2.14.3 in /home/rodrigo/miniconda/miniconda/envs/cebra/lib/python3.8/site-packages (from torch->cebra[datasets,demos]) (2.14.3)\n",
      "Requirement already satisfied: nvidia-nvtx-cu11==11.7.91 in /home/rodrigo/miniconda/miniconda/envs/cebra/lib/python3.8/site-packages (from torch->cebra[datasets,demos]) (11.7.91)\n",
      "Requirement already satisfied: triton==2.0.0 in /home/rodrigo/miniconda/miniconda/envs/cebra/lib/python3.8/site-packages (from torch->cebra[datasets,demos]) (2.0.0)\n",
      "Requirement already satisfied: setuptools in /home/rodrigo/miniconda/miniconda/envs/cebra/lib/python3.8/site-packages (from nvidia-cublas-cu11==11.10.3.66->torch->cebra[datasets,demos]) (68.1.2)\n",
      "Requirement already satisfied: wheel in /home/rodrigo/miniconda/miniconda/envs/cebra/lib/python3.8/site-packages (from nvidia-cublas-cu11==11.10.3.66->torch->cebra[datasets,demos]) (0.41.2)\n",
      "Requirement already satisfied: cmake in /home/rodrigo/miniconda/miniconda/envs/cebra/lib/python3.8/site-packages (from triton==2.0.0->torch->cebra[datasets,demos]) (3.27.4.1)\n",
      "Requirement already satisfied: lit in /home/rodrigo/miniconda/miniconda/envs/cebra/lib/python3.8/site-packages (from triton==2.0.0->torch->cebra[datasets,demos]) (16.0.6)\n",
      "Requirement already satisfied: six>=1.9.0 in /home/rodrigo/miniconda/miniconda/envs/cebra/lib/python3.8/site-packages (from bleach!=5.0.0->nbconvert->cebra[datasets,demos]) (1.16.0)\n",
      "Requirement already satisfied: webencodings in /home/rodrigo/miniconda/miniconda/envs/cebra/lib/python3.8/site-packages (from bleach!=5.0.0->nbconvert->cebra[datasets,demos]) (0.5.1)\n",
      "Requirement already satisfied: zipp>=0.5 in /home/rodrigo/miniconda/miniconda/envs/cebra/lib/python3.8/site-packages (from importlib-metadata>=3.6->nbconvert->cebra[datasets,demos]) (3.16.2)\n",
      "Requirement already satisfied: backcall in /home/rodrigo/miniconda/miniconda/envs/cebra/lib/python3.8/site-packages (from ipython>=7.23.1->ipykernel->cebra[datasets,demos]) (0.2.0)\n",
      "Requirement already satisfied: decorator in /home/rodrigo/miniconda/miniconda/envs/cebra/lib/python3.8/site-packages (from ipython>=7.23.1->ipykernel->cebra[datasets,demos]) (5.1.1)\n",
      "Requirement already satisfied: jedi>=0.16 in /home/rodrigo/miniconda/miniconda/envs/cebra/lib/python3.8/site-packages (from ipython>=7.23.1->ipykernel->cebra[datasets,demos]) (0.19.0)\n",
      "Requirement already satisfied: pickleshare in /home/rodrigo/miniconda/miniconda/envs/cebra/lib/python3.8/site-packages (from ipython>=7.23.1->ipykernel->cebra[datasets,demos]) (0.7.5)\n",
      "Requirement already satisfied: prompt-toolkit!=3.0.37,<3.1.0,>=3.0.30 in /home/rodrigo/miniconda/miniconda/envs/cebra/lib/python3.8/site-packages (from ipython>=7.23.1->ipykernel->cebra[datasets,demos]) (3.0.39)\n",
      "Requirement already satisfied: stack-data in /home/rodrigo/miniconda/miniconda/envs/cebra/lib/python3.8/site-packages (from ipython>=7.23.1->ipykernel->cebra[datasets,demos]) (0.6.2)\n",
      "Requirement already satisfied: pexpect>4.3 in /home/rodrigo/miniconda/miniconda/envs/cebra/lib/python3.8/site-packages (from ipython>=7.23.1->ipykernel->cebra[datasets,demos]) (4.8.0)\n",
      "Requirement already satisfied: fastjsonschema in /home/rodrigo/miniconda/miniconda/envs/cebra/lib/python3.8/site-packages (from nbformat>=5.7->nbconvert->cebra[datasets,demos]) (2.18.0)\n",
      "Requirement already satisfied: jsonschema>=2.6 in /home/rodrigo/miniconda/miniconda/envs/cebra/lib/python3.8/site-packages (from nbformat>=5.7->nbconvert->cebra[datasets,demos]) (4.19.0)\n",
      "Requirement already satisfied: soupsieve>1.2 in /home/rodrigo/miniconda/miniconda/envs/cebra/lib/python3.8/site-packages (from beautifulsoup4->nbconvert->cebra[datasets,demos]) (2.5)\n",
      "Requirement already satisfied: widgetsnbextension~=4.0.7 in /home/rodrigo/miniconda/miniconda/envs/cebra/lib/python3.8/site-packages (from ipywidgets->jupyter->cebra[datasets,demos]) (4.0.8)\n",
      "Requirement already satisfied: jupyterlab-widgets~=3.0.7 in /home/rodrigo/miniconda/miniconda/envs/cebra/lib/python3.8/site-packages (from ipywidgets->jupyter->cebra[datasets,demos]) (3.0.8)\n",
      "Requirement already satisfied: jupyter-server<3,>=2.4.0 in /home/rodrigo/miniconda/miniconda/envs/cebra/lib/python3.8/site-packages (from notebook->jupyter->cebra[datasets,demos]) (2.7.3)\n",
      "Requirement already satisfied: jupyterlab-server<3,>=2.22.1 in /home/rodrigo/miniconda/miniconda/envs/cebra/lib/python3.8/site-packages (from notebook->jupyter->cebra[datasets,demos]) (2.24.0)\n",
      "Requirement already satisfied: jupyterlab<5,>=4.0.2 in /home/rodrigo/miniconda/miniconda/envs/cebra/lib/python3.8/site-packages (from notebook->jupyter->cebra[datasets,demos]) (4.0.5)\n",
      "Requirement already satisfied: notebook-shim<0.3,>=0.2 in /home/rodrigo/miniconda/miniconda/envs/cebra/lib/python3.8/site-packages (from notebook->jupyter->cebra[datasets,demos]) (0.2.3)\n",
      "Requirement already satisfied: ipython-genutils in /home/rodrigo/miniconda/miniconda/envs/cebra/lib/python3.8/site-packages (from qtconsole->jupyter->cebra[datasets,demos]) (0.2.0)\n",
      "Requirement already satisfied: qtpy>=2.4.0 in /home/rodrigo/miniconda/miniconda/envs/cebra/lib/python3.8/site-packages (from qtconsole->jupyter->cebra[datasets,demos]) (2.4.0)\n",
      "Requirement already satisfied: mpmath>=0.19 in /home/rodrigo/miniconda/miniconda/envs/cebra/lib/python3.8/site-packages (from sympy->torch->cebra[datasets,demos]) (1.3.0)\n",
      "Requirement already satisfied: parso<0.9.0,>=0.8.3 in /home/rodrigo/miniconda/miniconda/envs/cebra/lib/python3.8/site-packages (from jedi>=0.16->ipython>=7.23.1->ipykernel->cebra[datasets,demos]) (0.8.3)\n",
      "Requirement already satisfied: attrs>=22.2.0 in /home/rodrigo/miniconda/miniconda/envs/cebra/lib/python3.8/site-packages (from jsonschema>=2.6->nbformat>=5.7->nbconvert->cebra[datasets,demos]) (23.1.0)\n",
      "Requirement already satisfied: jsonschema-specifications>=2023.03.6 in /home/rodrigo/miniconda/miniconda/envs/cebra/lib/python3.8/site-packages (from jsonschema>=2.6->nbformat>=5.7->nbconvert->cebra[datasets,demos]) (2023.7.1)\n",
      "Requirement already satisfied: pkgutil-resolve-name>=1.3.10 in /home/rodrigo/miniconda/miniconda/envs/cebra/lib/python3.8/site-packages (from jsonschema>=2.6->nbformat>=5.7->nbconvert->cebra[datasets,demos]) (1.3.10)\n",
      "Requirement already satisfied: referencing>=0.28.4 in /home/rodrigo/miniconda/miniconda/envs/cebra/lib/python3.8/site-packages (from jsonschema>=2.6->nbformat>=5.7->nbconvert->cebra[datasets,demos]) (0.30.2)\n",
      "Requirement already satisfied: rpds-py>=0.7.1 in /home/rodrigo/miniconda/miniconda/envs/cebra/lib/python3.8/site-packages (from jsonschema>=2.6->nbformat>=5.7->nbconvert->cebra[datasets,demos]) (0.10.2)\n",
      "Requirement already satisfied: anyio>=3.1.0 in /home/rodrigo/miniconda/miniconda/envs/cebra/lib/python3.8/site-packages (from jupyter-server<3,>=2.4.0->notebook->jupyter->cebra[datasets,demos]) (4.0.0)\n",
      "Requirement already satisfied: argon2-cffi in /home/rodrigo/miniconda/miniconda/envs/cebra/lib/python3.8/site-packages (from jupyter-server<3,>=2.4.0->notebook->jupyter->cebra[datasets,demos]) (23.1.0)\n",
      "Requirement already satisfied: jupyter-events>=0.6.0 in /home/rodrigo/miniconda/miniconda/envs/cebra/lib/python3.8/site-packages (from jupyter-server<3,>=2.4.0->notebook->jupyter->cebra[datasets,demos]) (0.7.0)\n",
      "Requirement already satisfied: jupyter-server-terminals in /home/rodrigo/miniconda/miniconda/envs/cebra/lib/python3.8/site-packages (from jupyter-server<3,>=2.4.0->notebook->jupyter->cebra[datasets,demos]) (0.4.4)\n",
      "Requirement already satisfied: overrides in /home/rodrigo/miniconda/miniconda/envs/cebra/lib/python3.8/site-packages (from jupyter-server<3,>=2.4.0->notebook->jupyter->cebra[datasets,demos]) (7.4.0)\n",
      "Requirement already satisfied: prometheus-client in /home/rodrigo/miniconda/miniconda/envs/cebra/lib/python3.8/site-packages (from jupyter-server<3,>=2.4.0->notebook->jupyter->cebra[datasets,demos]) (0.17.1)\n",
      "Requirement already satisfied: send2trash>=1.8.2 in /home/rodrigo/miniconda/miniconda/envs/cebra/lib/python3.8/site-packages (from jupyter-server<3,>=2.4.0->notebook->jupyter->cebra[datasets,demos]) (1.8.2)\n",
      "Requirement already satisfied: terminado>=0.8.3 in /home/rodrigo/miniconda/miniconda/envs/cebra/lib/python3.8/site-packages (from jupyter-server<3,>=2.4.0->notebook->jupyter->cebra[datasets,demos]) (0.17.1)\n",
      "Requirement already satisfied: websocket-client in /home/rodrigo/miniconda/miniconda/envs/cebra/lib/python3.8/site-packages (from jupyter-server<3,>=2.4.0->notebook->jupyter->cebra[datasets,demos]) (1.6.2)\n",
      "Requirement already satisfied: async-lru>=1.0.0 in /home/rodrigo/miniconda/miniconda/envs/cebra/lib/python3.8/site-packages (from jupyterlab<5,>=4.0.2->notebook->jupyter->cebra[datasets,demos]) (2.0.4)\n",
      "Requirement already satisfied: jupyter-lsp>=2.0.0 in /home/rodrigo/miniconda/miniconda/envs/cebra/lib/python3.8/site-packages (from jupyterlab<5,>=4.0.2->notebook->jupyter->cebra[datasets,demos]) (2.2.0)\n",
      "Requirement already satisfied: tomli in /home/rodrigo/miniconda/miniconda/envs/cebra/lib/python3.8/site-packages (from jupyterlab<5,>=4.0.2->notebook->jupyter->cebra[datasets,demos]) (2.0.1)\n",
      "Requirement already satisfied: babel>=2.10 in /home/rodrigo/miniconda/miniconda/envs/cebra/lib/python3.8/site-packages (from jupyterlab-server<3,>=2.22.1->notebook->jupyter->cebra[datasets,demos]) (2.12.1)\n",
      "Requirement already satisfied: json5>=0.9.0 in /home/rodrigo/miniconda/miniconda/envs/cebra/lib/python3.8/site-packages (from jupyterlab-server<3,>=2.22.1->notebook->jupyter->cebra[datasets,demos]) (0.9.14)\n",
      "Requirement already satisfied: ptyprocess>=0.5 in /home/rodrigo/miniconda/miniconda/envs/cebra/lib/python3.8/site-packages (from pexpect>4.3->ipython>=7.23.1->ipykernel->cebra[datasets,demos]) (0.7.0)\n",
      "Requirement already satisfied: wcwidth in /home/rodrigo/miniconda/miniconda/envs/cebra/lib/python3.8/site-packages (from prompt-toolkit!=3.0.37,<3.1.0,>=3.0.30->ipython>=7.23.1->ipykernel->cebra[datasets,demos]) (0.2.6)\n",
      "Requirement already satisfied: executing>=1.2.0 in /home/rodrigo/miniconda/miniconda/envs/cebra/lib/python3.8/site-packages (from stack-data->ipython>=7.23.1->ipykernel->cebra[datasets,demos]) (1.2.0)\n",
      "Requirement already satisfied: asttokens>=2.1.0 in /home/rodrigo/miniconda/miniconda/envs/cebra/lib/python3.8/site-packages (from stack-data->ipython>=7.23.1->ipykernel->cebra[datasets,demos]) (2.2.1)\n",
      "Requirement already satisfied: pure-eval in /home/rodrigo/miniconda/miniconda/envs/cebra/lib/python3.8/site-packages (from stack-data->ipython>=7.23.1->ipykernel->cebra[datasets,demos]) (0.2.2)\n",
      "Requirement already satisfied: sniffio>=1.1 in /home/rodrigo/miniconda/miniconda/envs/cebra/lib/python3.8/site-packages (from anyio>=3.1.0->jupyter-server<3,>=2.4.0->notebook->jupyter->cebra[datasets,demos]) (1.3.0)\n",
      "Requirement already satisfied: exceptiongroup>=1.0.2 in /home/rodrigo/miniconda/miniconda/envs/cebra/lib/python3.8/site-packages (from anyio>=3.1.0->jupyter-server<3,>=2.4.0->notebook->jupyter->cebra[datasets,demos]) (1.1.3)\n",
      "Requirement already satisfied: python-json-logger>=2.0.4 in /home/rodrigo/miniconda/miniconda/envs/cebra/lib/python3.8/site-packages (from jupyter-events>=0.6.0->jupyter-server<3,>=2.4.0->notebook->jupyter->cebra[datasets,demos]) (2.0.7)\n",
      "Requirement already satisfied: pyyaml>=5.3 in /home/rodrigo/miniconda/miniconda/envs/cebra/lib/python3.8/site-packages (from jupyter-events>=0.6.0->jupyter-server<3,>=2.4.0->notebook->jupyter->cebra[datasets,demos]) (6.0.1)\n",
      "Requirement already satisfied: rfc3339-validator in /home/rodrigo/miniconda/miniconda/envs/cebra/lib/python3.8/site-packages (from jupyter-events>=0.6.0->jupyter-server<3,>=2.4.0->notebook->jupyter->cebra[datasets,demos]) (0.1.4)\n",
      "Requirement already satisfied: rfc3986-validator>=0.1.1 in /home/rodrigo/miniconda/miniconda/envs/cebra/lib/python3.8/site-packages (from jupyter-events>=0.6.0->jupyter-server<3,>=2.4.0->notebook->jupyter->cebra[datasets,demos]) (0.1.1)\n",
      "Requirement already satisfied: argon2-cffi-bindings in /home/rodrigo/miniconda/miniconda/envs/cebra/lib/python3.8/site-packages (from argon2-cffi->jupyter-server<3,>=2.4.0->notebook->jupyter->cebra[datasets,demos]) (21.2.0)\n",
      "Requirement already satisfied: fqdn in /home/rodrigo/miniconda/miniconda/envs/cebra/lib/python3.8/site-packages (from jsonschema>=2.6->nbformat>=5.7->nbconvert->cebra[datasets,demos]) (1.5.1)\n",
      "Requirement already satisfied: isoduration in /home/rodrigo/miniconda/miniconda/envs/cebra/lib/python3.8/site-packages (from jsonschema>=2.6->nbformat>=5.7->nbconvert->cebra[datasets,demos]) (20.11.0)\n",
      "Requirement already satisfied: jsonpointer>1.13 in /home/rodrigo/miniconda/miniconda/envs/cebra/lib/python3.8/site-packages (from jsonschema>=2.6->nbformat>=5.7->nbconvert->cebra[datasets,demos]) (2.4)\n",
      "Requirement already satisfied: uri-template in /home/rodrigo/miniconda/miniconda/envs/cebra/lib/python3.8/site-packages (from jsonschema>=2.6->nbformat>=5.7->nbconvert->cebra[datasets,demos]) (1.3.0)\n",
      "Requirement already satisfied: webcolors>=1.11 in /home/rodrigo/miniconda/miniconda/envs/cebra/lib/python3.8/site-packages (from jsonschema>=2.6->nbformat>=5.7->nbconvert->cebra[datasets,demos]) (1.13)\n",
      "Requirement already satisfied: cffi>=1.0.1 in /home/rodrigo/miniconda/miniconda/envs/cebra/lib/python3.8/site-packages (from argon2-cffi-bindings->argon2-cffi->jupyter-server<3,>=2.4.0->notebook->jupyter->cebra[datasets,demos]) (1.15.1)\n",
      "Requirement already satisfied: pycparser in /home/rodrigo/miniconda/miniconda/envs/cebra/lib/python3.8/site-packages (from cffi>=1.0.1->argon2-cffi-bindings->argon2-cffi->jupyter-server<3,>=2.4.0->notebook->jupyter->cebra[datasets,demos]) (2.21)\n",
      "Requirement already satisfied: arrow>=0.15.0 in /home/rodrigo/miniconda/miniconda/envs/cebra/lib/python3.8/site-packages (from isoduration->jsonschema>=2.6->nbformat>=5.7->nbconvert->cebra[datasets,demos]) (1.2.3)\n"
     ]
    }
   ],
   "source": [
    "!pip install 'cebra[datasets,demos]'"
   ]
  },
  {
   "cell_type": "code",
   "execution_count": 2,
   "metadata": {},
   "outputs": [
    {
     "name": "stderr",
     "output_type": "stream",
     "text": [
      "/home/rodrigo/miniconda/miniconda/envs/cebra/lib/python3.8/site-packages/cebra/datasets/monkey_reaching.py:35: UserWarning: Could not import the nlb_tools package required for data loading of cebra.datasets.monkey_reaching. Dataset will not be available. If required, you can install the dataset by running pip install git+https://github.com/neurallatents/nlb_tools.\n",
      "  warnings.warn(\n"
     ]
    }
   ],
   "source": [
    "import sys\n",
    "\n",
    "import matplotlib.pyplot as plt\n",
    "import cebra.data\n",
    "import cebra.datasets\n",
    "import cebra.integrations\n",
    "from cebra import CEBRA\n",
    "import matplotlib.pyplot as plt\n",
    "import pickle"
   ]
  },
  {
   "cell_type": "markdown",
   "metadata": {},
   "source": [
    "- Be sure you have downloaded the data and placed `/data` from [FigShare](https://figshare.com/s/60adb075234c2cc51fa3) and into the `demo_notebooks` directory. Let's check if it's there:"
   ]
  },
  {
   "cell_type": "code",
   "execution_count": 3,
   "metadata": {},
   "outputs": [
    {
     "name": "stdout",
     "output_type": "stream",
     "text": [
      "\u001b[0m\u001b[01;34mdata\u001b[0m/                                Demo_hypothesis_testing.ipynb\n",
      "Demo_Allen.ipynb                     Demo_learnable_temperature.ipynb\n",
      "Demo_cohomology.ipynb                Demo_primate_reaching.ipynb\n",
      "Demo_consistency.ipynb               Demo_primate_reaching_mse_loss.ipynb\n",
      "Demo_conv-pivae.ipynb                Demo_synthetic_exp.ipynb\n",
      "Demo_decoding.ipynb                  LICENSE\n",
      "Demo_hippocampus.ipynb               rat_demo_example_output.h5\n",
      "Demo_hippocampus_multisession.ipynb  README.rst\n"
     ]
    }
   ],
   "source": [
    "ls"
   ]
  },
  {
   "cell_type": "markdown",
   "metadata": {},
   "source": [
    "## Load the data"
   ]
  },
  {
   "cell_type": "code",
   "execution_count": 4,
   "metadata": {},
   "outputs": [],
   "source": [
    "hippocampus_a = cebra.datasets.init('rat-hippocampus-single-achilles')\n",
    "hippocampus_b = cebra.datasets.init('rat-hippocampus-single-buddy')\n",
    "hippocampus_c = cebra.datasets.init('rat-hippocampus-single-cicero')\n",
    "hippocampus_g = cebra.datasets.init('rat-hippocampus-single-gatsby')"
   ]
  },
  {
   "cell_type": "code",
   "execution_count": 5,
   "metadata": {},
   "outputs": [],
   "source": [
    "names = [\"achilles\", \"buddy\", \"cicero\", \"gatsby\"]\n",
    "datas = [hippocampus_a.neural.numpy(), hippocampus_b.neural.numpy(), hippocampus_c.neural.numpy(), hippocampus_g.neural.numpy()]\n",
    "labels = [hippocampus_a.continuous_index.numpy(), hippocampus_b.continuous_index.numpy(), hippocampus_c.continuous_index.numpy(), hippocampus_g.continuous_index.numpy()]"
   ]
  },
  {
   "attachments": {},
   "cell_type": "markdown",
   "metadata": {},
   "source": [
    "## Single-session training\n",
    "\n",
    "Create and fit one single session model per dataset"
   ]
  },
  {
   "cell_type": "code",
   "execution_count": 6,
   "metadata": {},
   "outputs": [],
   "source": [
    "max_iterations = 100 # by default, 5000 iterations"
   ]
  },
  {
   "cell_type": "code",
   "execution_count": 7,
   "metadata": {},
   "outputs": [
    {
     "name": "stdout",
     "output_type": "stream",
     "text": [
      "Fitting CEBRA for achilles\n"
     ]
    },
    {
     "name": "stderr",
     "output_type": "stream",
     "text": [
      "pos:  0.2263 neg:  5.4477 total:  5.6740 temperature:  1.0000: 100%|██████████████████████████████████████████████████████████████████████| 100/100 [00:04<00:00, 23.05it/s]\n"
     ]
    },
    {
     "name": "stdout",
     "output_type": "stream",
     "text": [
      "Fitting CEBRA for buddy\n"
     ]
    },
    {
     "name": "stderr",
     "output_type": "stream",
     "text": [
      "pos:  0.4821 neg:  5.5237 total:  6.0058 temperature:  1.0000: 100%|██████████████████████████████████████████████████████████████████████| 100/100 [00:01<00:00, 58.80it/s]\n"
     ]
    },
    {
     "name": "stdout",
     "output_type": "stream",
     "text": [
      "Fitting CEBRA for cicero\n"
     ]
    },
    {
     "name": "stderr",
     "output_type": "stream",
     "text": [
      "pos:  0.4156 neg:  5.7495 total:  6.1650 temperature:  1.0000: 100%|██████████████████████████████████████████████████████████████████████| 100/100 [00:01<00:00, 78.19it/s]\n"
     ]
    },
    {
     "name": "stdout",
     "output_type": "stream",
     "text": [
      "Fitting CEBRA for gatsby\n"
     ]
    },
    {
     "name": "stderr",
     "output_type": "stream",
     "text": [
      "pos:  0.4044 neg:  5.6249 total:  6.0293 temperature:  1.0000: 100%|██████████████████████████████████████████████████████████████████████| 100/100 [00:01<00:00, 74.23it/s]\n"
     ]
    }
   ],
   "source": [
    "embeddings = dict()\n",
    "\n",
    "# Single session training\n",
    "for name, X, y in zip(names, datas, labels):\n",
    "    # Fit one CEBRA model per session (i.e., per rat)\n",
    "    print(f\"Fitting CEBRA for {name}\")\n",
    "    cebra_model = CEBRA(model_architecture='offset10-model',\n",
    "                        batch_size=512,\n",
    "                        learning_rate=3e-4,\n",
    "                        temperature=1,\n",
    "                        output_dimension=3,\n",
    "                        max_iterations=max_iterations,\n",
    "                        distance='cosine',\n",
    "                        conditional='time_delta',\n",
    "                        device='cuda_if_available',\n",
    "                        verbose=True,\n",
    "                        time_offsets=10)\n",
    "\n",
    "    cebra_model.fit(X, y)\n",
    "    embeddings[name] = cebra_model.transform(X)\n",
    "\n",
    "\n",
    "# Align the single session embeddings to the first rat\n",
    "alignment = cebra.data.helper.OrthogonalProcrustesAlignment()\n",
    "first_rat = list(embeddings.keys())[0]\n",
    "\n",
    "for j, rat_name in enumerate(list(embeddings.keys())[1:]):\n",
    "    embeddings[f\"{rat_name}\"] = alignment.fit_transform(\n",
    "        embeddings[first_rat], embeddings[rat_name], labels[0], labels[j+1])\n",
    "\n",
    "\n",
    "# Save embeddings in current folder\n",
    "with open('embeddings.pkl', 'wb') as f:\n",
    "    pickle.dump(embeddings, f)\n"
   ]
  },
  {
   "attachments": {},
   "cell_type": "markdown",
   "metadata": {},
   "source": [
    "## Multisession training\n",
    "\n",
    "Create and fit one multi-session model on all datasets"
   ]
  },
  {
   "cell_type": "code",
   "execution_count": 8,
   "metadata": {},
   "outputs": [
    {
     "name": "stderr",
     "output_type": "stream",
     "text": [
      "pos:  0.4349 neg:  6.9797 total:  7.4146 temperature:  1.0000: 100%|██████████████████████████████████████████████████████████████████████| 100/100 [00:07<00:00, 12.60it/s]\n"
     ]
    }
   ],
   "source": [
    "multi_embeddings = dict()\n",
    "\n",
    "# Multisession training\n",
    "multi_cebra_model = CEBRA(model_architecture='offset10-model',\n",
    "                    batch_size=512,\n",
    "                    learning_rate=3e-4,\n",
    "                    temperature=1,\n",
    "                    output_dimension=3,\n",
    "                    max_iterations=max_iterations,\n",
    "                    distance='cosine',\n",
    "                    conditional='time_delta',\n",
    "                    device='cuda_if_available',\n",
    "                    verbose=True,\n",
    "                    time_offsets=10)\n",
    "\n",
    "# Provide a list of data, i.e. datas = [data_a, data_b, ...]\n",
    "multi_cebra_model.fit(datas, labels)\n",
    "\n",
    "# Transform each session with the right model, by providing the corresponding session ID\n",
    "for i, (name, X) in enumerate(zip(names, datas)):\n",
    "    multi_embeddings[name] = multi_cebra_model.transform(X, session_id=i)\n",
    "\n",
    "# Save embeddings in current folder\n",
    "with open('multi_embeddings.pkl', 'wb') as f:\n",
    "    pickle.dump(multi_embeddings, f)"
   ]
  },
  {
   "attachments": {},
   "cell_type": "markdown",
   "metadata": {},
   "source": [
    "## Compare embeddings\n",
    "\n",
    "Also see [Extended Data Figure 7](https://cebra.ai/docs/cebra-figures/figures/ExtendedDataFigure7.html) of Schneider, Lee, Mathis."
   ]
  },
  {
   "cell_type": "code",
   "execution_count": 9,
   "metadata": {},
   "outputs": [],
   "source": [
    "with open('embeddings.pkl', 'rb') as f:\n",
    "    embeddings = pickle.load(f)\n",
    "with open('multi_embeddings.pkl', 'rb') as f:\n",
    "    multi_embeddings = pickle.load(f)"
   ]
  },
  {
   "cell_type": "code",
   "execution_count": 12,
   "metadata": {},
   "outputs": [],
   "source": [
    "def plot_hippocampus(ax, embedding, label, gray = False, idx_order = (0,1,2)):\n",
    "    r_ind = label[:,1] == 1\n",
    "    l_ind = label[:,2] == 1\n",
    "    \n",
    "    if not gray:\n",
    "        r_cmap = 'cool'\n",
    "        l_cmap = 'viridis'\n",
    "        r_c = label[r_ind, 0]\n",
    "        l_c = label[l_ind, 0]\n",
    "    else:\n",
    "        r_cmap = None\n",
    "        l_cmap = None\n",
    "        r_c = 'gray'\n",
    "        l_c = 'gray'\n",
    "    \n",
    "    idx1, idx2, idx3 = idx_order\n",
    "    r=ax.scatter(embedding [r_ind,idx1], \n",
    "               embedding [r_ind,idx2], \n",
    "               embedding [r_ind,idx3], \n",
    "               c=r_c,\n",
    "               cmap=r_cmap, s=0.05, alpha=0.75)\n",
    "    l=ax.scatter(embedding [l_ind,idx1], \n",
    "               embedding [l_ind,idx2], \n",
    "               embedding [l_ind,idx3], \n",
    "               c=l_c,\n",
    "               cmap=l_cmap, s=0.05, alpha=0.75)\n",
    "    \n",
    "    ax.grid(False)\n",
    "    ax.xaxis.pane.fill = False\n",
    "    ax.yaxis.pane.fill = False\n",
    "    ax.zaxis.pane.fill = False\n",
    "    ax.xaxis.pane.set_edgecolor('w')\n",
    "    ax.yaxis.pane.set_edgecolor('w')\n",
    "    ax.zaxis.pane.set_edgecolor('w')\n",
    "        \n",
    "    return ax"
   ]
  },
  {
   "attachments": {},
   "cell_type": "markdown",
   "metadata": {},
   "source": [
    "**Note to Google Colaboratory users:** replace the first line of the next cell (``%matplotlib notebook``) with ``%matplotlib inline``."
   ]
  },
  {
   "cell_type": "markdown",
   "metadata": {},
   "source": [
    "%matplotlib inline\n",
    "\n",
    "fig = plt.figure(figsize=(10,6))\n",
    "\n",
    "ax1 = plt.subplot(241, projection='3d')\n",
    "ax2 = plt.subplot(242, projection='3d')\n",
    "ax3 = plt.subplot(243, projection='3d')\n",
    "ax4 = plt.subplot(244, projection='3d')\n",
    "axs = [ax1, ax2, ax3, ax4]\n",
    "\n",
    "ax5 = plt.subplot(245, projection='3d')\n",
    "ax6 = plt.subplot(246, projection='3d')\n",
    "ax7 = plt.subplot(247, projection='3d')\n",
    "ax8 = plt.subplot(248, projection='3d')\n",
    "axs_multi = [ax5, ax6, ax7, ax8]\n",
    "\n",
    "for name, label, ax, ax_multi in zip(names, labels, axs, axs_multi):\n",
    "    ax = plot_hippocampus(ax, embeddings[name], label)\n",
    "    ax.set_title(f'Single-{name}', y=1, pad=-20)\n",
    "    ax.axis('off')\n",
    "    ax_multi = plot_hippocampus(ax_multi, multi_embeddings[name], label)\n",
    "    ax_multi.set_title(f'Multi-{name}', y=1, pad=-20)\n",
    "    ax_multi.axis('off')\n",
    "    \n",
    "    \n",
    "plt.subplots_adjust(wspace=0,\n",
    "                    hspace=0)\n",
    "plt.show()"
   ]
  },
  {
   "cell_type": "code",
   "execution_count": 16,
   "metadata": {},
   "outputs": [
    {
     "data": {
      "text/plain": [
       "{'achilles': array([[ 0.24287799,  0.17034858,  0.9549825 ],\n",
       "        [-0.15072678,  0.19596799,  0.9689572 ],\n",
       "        [-0.18626714,  0.30352882,  0.9344382 ],\n",
       "        ...,\n",
       "        [ 0.34342515,  0.5492445 ,  0.76183313],\n",
       "        [ 0.16788875,  0.32663715,  0.9301191 ],\n",
       "        [ 0.42049885,  0.26028374,  0.86915654]], dtype=float32),\n",
       " 'buddy': array([[-0.3596853 ,  0.21568644, -0.90780294],\n",
       "        [-0.38947132,  0.35536057, -0.8497241 ],\n",
       "        [-0.21383509,  0.39446196, -0.89368594],\n",
       "        ...,\n",
       "        [-0.91645396, -0.36027244, -0.17411572],\n",
       "        [-0.1692151 , -0.71148336, -0.6820252 ],\n",
       "        [ 0.01878067, -0.6293062 , -0.776931  ]], dtype=float32),\n",
       " 'cicero': array([[-0.6158745 , -0.7788903 ,  0.11844026],\n",
       "        [-0.4232825 , -0.9059292 ,  0.01112168],\n",
       "        [-0.34702244, -0.9363383 , -0.05334318],\n",
       "        ...,\n",
       "        [-0.58696455, -0.7584261 ,  0.2833057 ],\n",
       "        [-0.6436958 , -0.71490484, -0.27306855],\n",
       "        [-0.7569303 , -0.6136877 , -0.22459641]], dtype=float32),\n",
       " 'gatsby': array([[-0.57969236,  0.40092504,  0.7093769 ],\n",
       "        [-0.86886406,  0.37536252,  0.3227657 ],\n",
       "        [-0.95822304, -0.00817527, -0.28590396],\n",
       "        ...,\n",
       "        [ 0.9366731 , -0.34844342,  0.03507565],\n",
       "        [ 0.8503515 , -0.37345538, -0.37071934],\n",
       "        [ 0.72572327, -0.39353946, -0.56431544]], dtype=float32)}"
      ]
     },
     "execution_count": 16,
     "metadata": {},
     "output_type": "execute_result"
    }
   ],
   "source": [
    "≈"
   ]
  },
  {
   "cell_type": "markdown",
   "metadata": {},
   "source": [
    "## Compute the consistency maps"
   ]
  },
  {
   "cell_type": "markdown",
   "metadata": {},
   "source": [
    "Correlation matrices depict the $R^2$ after fitting a linear model between behavior-aligned embeddings of two animals, one as the target one as the source (mean, n=10 runs). Parameters were picked by optimizing average run consistency across rats."
   ]
  },
  {
   "cell_type": "code",
   "execution_count": 23,
   "metadata": {},
   "outputs": [],
   "source": [
    "# labels to align the subjects is the position of the mouse in the arena\n",
    "labels = [data.continuous_index[:, 0]\n",
    "          for data in [hippocampus_a, hippocampus_b, hippocampus_c, hippocampus_g]]\n",
    "\n",
    "\n",
    "\n",
    "\n",
    "# CEBRA (single animal)\n",
    "scores, pairs, subjects = cebra.sklearn.metrics.consistency_score(embeddings=list(embeddings.values()),\n",
    "                                                                                 labels=labels,\n",
    "                                                                                 dataset_ids=names,\n",
    "                                                                                 between=\"datasets\")\n",
    "\n",
    "# CEBRA (multiple animals)\n",
    "multi_scores, multi_pairs, multi_subjects = cebra.sklearn.metrics.consistency_score(embeddings=list(multi_embeddings.values()),\n",
    "                                                                                 labels=labels,\n",
    "                                                                                 dataset_ids=names,\n",
    "                                                                                 between=\"datasets\")\n"
   ]
  },
  {
   "cell_type": "code",
   "execution_count": 25,
   "metadata": {},
   "outputs": [
    {
     "data": {
      "image/png": "[encoded data removed]",
      "text/plain": [
       "<Figure size 1100x400 with 2 Axes>"
      ]
     },
     "metadata": {},
     "output_type": "display_data"
    }
   ],
   "source": [
    "%matplotlib inline\n",
    "\n",
    "# Display consistency maps\n",
    "fig = plt.figure(figsize=(11, 4))\n",
    "\n",
    "ax1 = plt.subplot(121)\n",
    "ax2 = plt.subplot(122)\n",
    "\n",
    "ax1 = cebra.plot_consistency(scores, pairs=pairs, datasets=subjects,\n",
    "                             ax=ax1, title=\"single animal\", colorbar_label=None)\n",
    "\n",
    "ax2 = cebra.plot_consistency(multi_scores, pairs=multi_pairs, datasets=multi_subjects,\n",
    "                             ax=ax2, title=\"multi animal\", colorbar_label=None)\n"
   ]
  },
  {
   "cell_type": "code",
   "execution_count": null,
   "metadata": {},
   "outputs": [],
   "source": []
  }
 ],
 "metadata": {
  "kernelspec": {
   "display_name": "cebra",
   "language": "python",
   "name": "cebra"
  },
  "language_info": {
   "codemirror_mode": {
    "name": "ipython",
    "version": 3
   },
   "file_extension": ".py",
   "mimetype": "text/x-python",
   "name": "python",
   "nbconvert_exporter": "python",
   "pygments_lexer": "ipython3",
   "version": "3.8.0"
  },
  "vscode": {
   "interpreter": {
    "hash": "dc327929684d2c13e929b2699e1b37518dbb61b921da51c352c926069002ee0e"
   }
  }
 },
 "nbformat": 4,
 "nbformat_minor": 4
}

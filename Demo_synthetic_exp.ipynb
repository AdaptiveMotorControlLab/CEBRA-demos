{
  "cells": [
    {
      "cell_type": "markdown",
      "id": "2646203e",
      "metadata": {
        "id": "2646203e"
      },
      "source": [
        "# Synthetic neural benchmarking"
      ]
    },
    {
      "cell_type": "markdown",
      "id": "c6d888db",
      "metadata": {
        "id": "c6d888db"
      },
      "source": [
        "- this notebook will demo how to use CEBRA, piVAE, tSNE and UMAP on synthetic datasets.\n",
        "\n",
        "- COLAB, Mac pre-M1, *Windows, and Ubuntu users can skip to cell 2.\n",
        "- *This has not been tested on Windows"
      ]
    },
    {
      "cell_type": "code",
      "execution_count": null,
      "id": "ad682de4",
      "metadata": {
        "scrolled": false,
        "id": "ad682de4"
      },
      "outputs": [],
      "source": [
        "#Attention: M1 chip users ONLY:\n",
        "# TF is a dependency of piVAE, which is used in this demo.\n",
        "# It requires a few extra steps that are addressed in this cell; in short, please run this once.\n",
        "# See also: https://developer.apple.com/metal/tensorflow-plugin/ if any issues.\n",
        "\n",
        "!pip uninstall -y tensorflow-deps tensorflow-macos tensorflow-metal keras\n",
        "\n",
        "!conda install pytorch torchvision torchaudio -c pytorch\n",
        "!pip install --upgrade --force-reinstall scikit-learn\n",
        "\n",
        "!conda install -c apple -y tensorflow-deps==2.5.0 --force-reinstall\n",
        "!python -m pip install tensorflow-macos\n",
        "!python -m pip install tensorflow-metal"
      ]
    },
    {
      "cell_type": "markdown",
      "id": "6ea007e8",
      "metadata": {
        "id": "6ea007e8"
      },
      "source": [
        "- Install note: be sure you have demo dependencies installed to use this notebook:"
      ]
    },
    {
      "cell_type": "code",
      "execution_count": null,
      "id": "b7aa656b",
      "metadata": {
        "id": "b7aa656b"
      },
      "outputs": [],
      "source": [
        "!pip install --pre 'cebra[datasets,demos]'"
      ]
    },
    {
      "cell_type": "code",
      "execution_count": null,
      "id": "af8436f6",
      "metadata": {
        "id": "af8436f6"
      },
      "outputs": [],
      "source": [
        "#import CEBRA:\n",
        "import cebra.datasets\n",
        "from cebra import CEBRA\n",
        "from cebra.datasets import get_datapath"
      ]
    },
    {
      "cell_type": "code",
      "source": [
        "# ONLY for using for t-sne, umap, and piVAE:\n",
        "!pip install openTSNE\n",
        "!pip install umap-learn\n",
        "!git clone --depth 1 --filter=blob:none --sparse https://github.com/AdaptiveMotorControlLab/CEBRA.git && cd CEBRA && git sparse-checkout set third_party\n",
        "!pip install tensorflow keras"
      ],
      "metadata": {
        "id": "TNMojMk3B-Th"
      },
      "id": "TNMojMk3B-Th",
      "execution_count": null,
      "outputs": []
    },
    {
      "cell_type": "code",
      "execution_count": null,
      "id": "48d77499",
      "metadata": {
        "scrolled": false,
        "id": "48d77499"
      },
      "outputs": [],
      "source": [
        "#import other packages:\n",
        "import matplotlib.pyplot as plt\n",
        "import numpy as np\n",
        "import torch\n",
        "import joblib as jl\n",
        "import sklearn.linear_model\n",
        "import openTSNE\n",
        "import umap\n",
        "import keras"
      ]
    },
    {
      "cell_type": "code",
      "execution_count": null,
      "id": "4c013dff",
      "metadata": {
        "scrolled": false,
        "id": "4c013dff"
      },
      "outputs": [],
      "source": [
        "#import piVAE:\n",
        "import os\n",
        "import sys\n",
        "sys.path.insert(0, '/content/CEBRA/third_party')\n",
        "\n",
        "\n",
        "###### Update the imports in the script // can be dropped if https://github.com/AdaptiveMotorControlLab/CEBRA/pull/164 merged!\n",
        "import re\n",
        "file_path = '/content/CEBRA/third_party/pivae/pivae_code/pi_vae.py'\n",
        "with open(file_path, 'r') as file:\n",
        "    filedata = file.read()\n",
        "\n",
        "filedata = re.sub(r'from keras', r'from tensorflow.keras', filedata)\n",
        "\n",
        "with open(file_path, 'w') as file:\n",
        "    file.write(filedata)\n",
        "###########\n",
        "\n",
        "# import\n",
        "import pivae.pivae_code.pi_vae as pivae\n",
        "from tensorflow.keras.callbacks import ModelCheckpoint"
      ]
    },
    {
      "cell_type": "markdown",
      "id": "95117ae5",
      "metadata": {
        "id": "95117ae5"
      },
      "source": [
        "### Let's load the data:"
      ]
    },
    {
      "cell_type": "markdown",
      "id": "a34ab496",
      "metadata": {
        "id": "a34ab496"
      },
      "source": [
        "- The data will be automatically downloaded into a `/data` folder."
      ]
    },
    {
      "cell_type": "code",
      "execution_count": null,
      "id": "ab78fe7f",
      "metadata": {
        "id": "ab78fe7f"
      },
      "outputs": [],
      "source": [
        "dataset = cebra.datasets.init(\"continuous-label-poisson\")"
      ]
    },
    {
      "cell_type": "code",
      "execution_count": null,
      "id": "a0dc046c",
      "metadata": {
        "id": "a0dc046c"
      },
      "outputs": [],
      "source": [
        "data = dataset.data\n",
        "plt.scatter(data['z'][:, 0], data['z'][:, 1], c=data['u'], s=1, cmap='cool')\n",
        "plt.axis('off')"
      ]
    },
    {
      "cell_type": "markdown",
      "id": "270e0ca9",
      "metadata": {
        "id": "270e0ca9"
      },
      "source": [
        "### Define the reconstruction score we use for all methods:"
      ]
    },
    {
      "cell_type": "code",
      "execution_count": null,
      "id": "c8c06714",
      "metadata": {
        "id": "c8c06714"
      },
      "outputs": [],
      "source": [
        "def reconstruction_score(x, y):\n",
        "\n",
        "    def _linear_fitting(x, y):\n",
        "        lin_model = sklearn.linear_model.LinearRegression()\n",
        "        lin_model.fit(x, y)\n",
        "        return lin_model.score(x, y), lin_model.predict(x)\n",
        "\n",
        "    return _linear_fitting(x, y)"
      ]
    },
    {
      "cell_type": "markdown",
      "id": "35789656",
      "metadata": {
        "id": "35789656"
      },
      "source": [
        "# CEBRA"
      ]
    },
    {
      "cell_type": "markdown",
      "id": "1ec9a524",
      "metadata": {
        "id": "1ec9a524"
      },
      "source": [
        "- Define & fit a 🦓 <font color='blue'>C</font><font color='MediumSlateBlue'>E</font><font color='BlueViolet'>B</font><font color='MediumVioletRed'>R</font><font color='red'>A</font>  model:\n",
        "- For a quick CPU run-time demo, you can drop `max_iterations` to 500; otherwise set to 10,000."
      ]
    },
    {
      "cell_type": "code",
      "execution_count": null,
      "id": "0266553b",
      "metadata": {
        "id": "0266553b"
      },
      "outputs": [],
      "source": [
        "max_iterations = 500"
      ]
    },
    {
      "cell_type": "code",
      "execution_count": null,
      "id": "bfd837aa",
      "metadata": {
        "id": "bfd837aa"
      },
      "outputs": [],
      "source": [
        "cebra_model = CEBRA(\n",
        "    model_architecture=\"offset1-model-mse\",\n",
        "    batch_size=512,\n",
        "    learning_rate=1e-4,\n",
        "    max_iterations=max_iterations,\n",
        "    delta=0.1,\n",
        "    conditional='delta',\n",
        "    output_dimension=2,\n",
        "    distance='euclidean',\n",
        "    device=\"cuda_if_available\",\n",
        "    verbose=True,\n",
        ")"
      ]
    },
    {
      "cell_type": "code",
      "execution_count": null,
      "id": "3e744923",
      "metadata": {
        "id": "3e744923"
      },
      "outputs": [],
      "source": [
        "cebra_model.fit(data['x'][:12000], data['u'][:12000])"
      ]
    },
    {
      "cell_type": "code",
      "execution_count": null,
      "id": "d0ccba0b",
      "metadata": {
        "id": "d0ccba0b"
      },
      "outputs": [],
      "source": [
        "cebra_output = cebra_model.transform(data['x'])\n",
        "cebra_score, transformed_cebra_z = reconstruction_score(cebra_output,\n",
        "                                                        data['z'][:, :2])\n",
        "print(f\"linear reconstruction score: {cebra_score}\")\n",
        "plt.scatter(transformed_cebra_z[:, 0],\n",
        "            transformed_cebra_z[:, 1],\n",
        "            c=data['u'],\n",
        "            s=1,\n",
        "            cmap='cool')\n",
        "plt.axis('off')"
      ]
    },
    {
      "cell_type": "markdown",
      "id": "ae0582f1",
      "metadata": {
        "id": "ae0582f1"
      },
      "source": [
        "# t-SNE"
      ]
    },
    {
      "cell_type": "code",
      "execution_count": null,
      "id": "b77aa578",
      "metadata": {
        "id": "b77aa578"
      },
      "outputs": [],
      "source": [
        "tsne_model = openTSNE.TSNE(perplexity=84,\n",
        "                           n_components=2,\n",
        "                           initialization='pca',\n",
        "                           random_state=None,\n",
        "                           metric='euclidean')"
      ]
    },
    {
      "cell_type": "code",
      "execution_count": null,
      "id": "c895b538",
      "metadata": {
        "id": "c895b538"
      },
      "outputs": [],
      "source": [
        "tsne_model.fit(data['x'])\n",
        "tsne_output = tsne_model.fit(data['x'])"
      ]
    },
    {
      "cell_type": "code",
      "execution_count": null,
      "id": "1eb1d80d",
      "metadata": {
        "id": "1eb1d80d"
      },
      "outputs": [],
      "source": [
        "tsne_score, transformed_tsne_z = reconstruction_score(tsne_output,\n",
        "                                                      data['z'][:, :2])\n",
        "print(f\"linear reconstruction score: {tsne_score}\")\n",
        "plt.scatter(transformed_tsne_z[:, 0],\n",
        "            transformed_tsne_z[:, 1],\n",
        "            c=data['u'],\n",
        "            s=1,\n",
        "            cmap='cool')\n",
        "plt.axis('off')"
      ]
    },
    {
      "cell_type": "markdown",
      "id": "b78bb3e7",
      "metadata": {
        "id": "b78bb3e7"
      },
      "source": [
        "# UMAP"
      ]
    },
    {
      "cell_type": "code",
      "execution_count": null,
      "id": "a3871078",
      "metadata": {
        "id": "a3871078"
      },
      "outputs": [],
      "source": [
        "umap_model = umap.UMAP(n_neighbors=68,\n",
        "                       min_dist=0.2475,\n",
        "                       n_components=2,\n",
        "                       random_state=None,\n",
        "                       metric='euclidean')\n",
        "umap_output = umap_model.fit_transform(data['x'])"
      ]
    },
    {
      "cell_type": "code",
      "execution_count": null,
      "id": "4b942df8",
      "metadata": {
        "id": "4b942df8"
      },
      "outputs": [],
      "source": [
        "umap_score, transformed_umap_z = reconstruction_score(umap_output,\n",
        "                                                      data['z'][:, :2])\n",
        "print(f\"linear reconstruction score: {umap_score}\")\n",
        "plt.scatter(transformed_umap_z[:, 0],\n",
        "            transformed_umap_z[:, 1],\n",
        "            c=data['u'],\n",
        "            s=1,\n",
        "            cmap='cool')\n",
        "plt.axis('off')"
      ]
    },
    {
      "cell_type": "markdown",
      "id": "10b084f2",
      "metadata": {
        "id": "10b084f2"
      },
      "source": [
        "# piVAE\n",
        "\n",
        "The dataset parsing, model configuration and training are all adapted from https://github.com/zhd96/pi-vae/blob/main/examples/pi-vae_simulated_data_continuous_label.ipynb\n",
        "- piVAE has a long run time. We store checkpoints."
      ]
    },
    {
      "cell_type": "code",
      "execution_count": null,
      "id": "a5b028b9",
      "metadata": {
        "id": "a5b028b9"
      },
      "outputs": [],
      "source": [
        "u_true = data['u']\n",
        "z_true = data['z']\n",
        "x_true = data['x']\n",
        "x_all = x_true.reshape(50, 300, -1)\n",
        "u_all = u_true.reshape(50, 300, -1)\n",
        "\n",
        "x_train = x_all[:40]\n",
        "u_train = u_all[:40]\n",
        "x_valid = x_all[40:]\n",
        "u_valid = u_all[40:]\n",
        "print(f'Train set has {len(x_train)} samples')"
      ]
    },
    {
      "cell_type": "code",
      "source": [
        "def custom_data_generator(x_train, u_train):\n",
        "    while True:\n",
        "        for i in range(len(x_train)):\n",
        "            yield [x_train[i], u_train[i]], x_train[i]  # or appropriate target\n"
      ],
      "metadata": {
        "id": "XT8LKYMucWZL"
      },
      "id": "XT8LKYMucWZL",
      "execution_count": null,
      "outputs": []
    },
    {
      "cell_type": "code",
      "execution_count": null,
      "id": "eb5a7368",
      "metadata": {
        "id": "eb5a7368"
      },
      "outputs": [],
      "source": [
        "vae = pivae.vae_mdl(dim_x=x_all[0].shape[-1],\n",
        "                    dim_z=2,\n",
        "                    dim_u=u_all[0].shape[-1],\n",
        "                    gen_nodes=60,\n",
        "                    n_blk=2,\n",
        "                    mdl='poisson',\n",
        "                    disc=False,\n",
        "                    learning_rate=5e-4)"
      ]
    },
    {
      "cell_type": "code",
      "execution_count": null,
      "id": "fcc5dce8",
      "metadata": {
        "id": "fcc5dce8"
      },
      "outputs": [],
      "source": [
        "model_chk_path = 'synthetic_pivae.h5'\n",
        "\n",
        "mcp = ModelCheckpoint(model_chk_path,\n",
        "                      monitor=\"val_loss\",\n",
        "                      save_best_only=True,\n",
        "                      save_weights_only=True)\n",
        "\n",
        "s_n = vae.fit(pivae.custom_data_generator(x_train, u_train),\n",
        "                        steps_per_epoch=len(x_train),\n",
        "                        epochs=100,\n",
        "                        verbose=0,\n",
        "                        validation_data=pivae.custom_data_generator(\n",
        "                            x_valid, u_valid),\n",
        "                        validation_steps=len(x_valid),\n",
        "                        callbacks=[mcp])"
      ]
    },
    {
      "cell_type": "code",
      "execution_count": null,
      "id": "1d6e7443",
      "metadata": {
        "id": "1d6e7443"
      },
      "outputs": [],
      "source": [
        "vae.load_weights(model_chk_path)\n",
        "outputs = vae.predict_generator(pivae.custom_data_generator(x_all, u_all),\n",
        "                                steps=len(x_all))\n",
        "#post_mean, post_log_var, z_sample,fire_rate, lam_mean, lam_log_var, z_mean, z_log_var\n",
        "z_post = outputs[0]"
      ]
    },
    {
      "cell_type": "code",
      "execution_count": null,
      "id": "49d9f9a8",
      "metadata": {
        "id": "49d9f9a8"
      },
      "outputs": [],
      "source": [
        "pivae_score, transformed_pivae_z = reconstruction_score(z_post,\n",
        "                                                        data['z'][:, :2])\n",
        "print(f\"linear reconstruction score: {pivae_score}\")\n",
        "plt.scatter(transformed_pivae_z[:, 0],\n",
        "            transformed_pivae_z[:, 1],\n",
        "            c=data['u'],\n",
        "            s=1,\n",
        "            cmap='cool')\n",
        "plt.axis('off')"
      ]
    }
  ],
  "metadata": {
    "kernelspec": {
      "display_name": "Python 3 (ipykernel)",
      "language": "python",
      "name": "python3"
    },
    "language_info": {
      "codemirror_mode": {
        "name": "ipython",
        "version": 3
      },
      "file_extension": ".py",
      "mimetype": "text/x-python",
      "name": "python",
      "nbconvert_exporter": "python",
      "pygments_lexer": "ipython3",
      "version": "3.8.0"
    },
    "vscode": {
      "interpreter": {
        "hash": "dc327929684d2c13e929b2699e1b37518dbb61b921da51c352c926069002ee0e"
      }
    },
    "colab": {
      "provenance": []
    }
  },
  "nbformat": 4,
  "nbformat_minor": 5
}
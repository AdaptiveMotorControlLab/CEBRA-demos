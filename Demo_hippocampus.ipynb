   "execution_count": 1,
    "from cebra import CEBRA\n",
    "\n",
    "from matplotlib.collections import LineCollection\n",
   "id": "25b87742",
    "### Visualize the data:"
   ]
  },
  {
   "cell_type": "code",
   "execution_count": 4,
   "id": "6019b83e",
   "metadata": {},
   "outputs": [
    {
     "data": {
      "text/plain": [
      ]
     },
     "metadata": {},
     "output_type": "display_data"
    }
   ],
   "source": [
    "plt.subplots_adjust(wspace = 0.3)\n",
    "ax = plt.subplot(121)\n",
    "ax.imshow(hippocampus_pos.neural.numpy()[:1000].T, aspect = 'auto', cmap = 'gray_r')\n",
    "plt.xlabel('Time [s]')\n",
    "plt.xticks(np.linspace(0, 1000, 5), np.linspace(0, 0.025*1000, 5, dtype = int))\n",
    "\n",
    "ax2 = plt.subplot(122)\n",
    "ax2.scatter(np.arange(1000), hippocampus_pos.continuous_index[:1000,0], c = 'gray', s=1)\n",
    "plt.ylabel('Position [m]')\n",
    "plt.xlabel('Time [s]')\n",
  {
   "cell_type": "markdown",
   "id": "901b1a30",
   "metadata": {},
   "source": [
   ]
  },
    "max_iterations = 10000 #default is 5000.\n",
   ]
  },
   "id": "00a451d4",
    "cebra_posdir3_model = CEBRA(model_architecture='offset10-model',\n",
    "                        learning_rate=3e-4,\n",
    "                        temperature=1,\n",
    "                        time_offsets=10)"
   ]
  },
  {
   "cell_type": "markdown",
   "id": "184df8b3",
   "metadata": {},
   "source": [
   ]
  },
  {
   "cell_type": "code",
   "id": "f3923b23",
    "cebra_posdir3_model.fit(hippocampus_pos.neural, hippocampus_pos.continuous_index.numpy())\n",
    "cebra_posdir3 = cebra_posdir3_model.transform(hippocampus_pos.neural)"
   ]
  },
  {
   "cell_type": "markdown",
   "id": "8beda57b",
   "metadata": {},
   "source": [
    "### CEBRA-Shuffled Behavior: Train a control model with shuffled neural data.\n",
    "- The model specification is the same as the CEBRA-Behavior above."
   ]
  },
  {
   "cell_type": "code",
   "id": "d1828c67",
   "metadata": {},
   "outputs": [],
   "source": [
    "cebra_posdir_shuffled3_model = CEBRA(model_architecture='offset10-model',\n",
    "                        batch_size=512,\n",
    "                        learning_rate=3e-4,\n",
    "                        temperature=1,\n",
    "                        max_iterations=max_iterations,\n",
    "                        distance='cosine',\n",
    "                        conditional='time_delta',\n",
    "                        device='cuda_if_available',\n",
    "                        verbose=True,\n",
    "                        time_offsets=10)"
   ]
  },
  {
   "cell_type": "markdown",
   "id": "2f72a42c",
   "metadata": {},
   "source": [
    "- Now we train the model with shuffled behavior variable. "
   ]
  },
  {
   "cell_type": "code",
   "id": "fe3705e3",
   "metadata": {},
   "outputs": [
    {
     "name": "stderr",
     "output_type": "stream",
     "text": [
     ]
    }
   ],
   "source": [
    "### Shuffle the behavior variable and use it for training\n",
    "cebra_posdir_shuffled3_model.fit(hippocampus_pos.neural, hippocampus_shuffled_posdir)\n",
    "cebra_posdir_shuffled3 = cebra_posdir_shuffled3_model.transform(hippocampus_pos.neural)"
   ]
  },
  {
   "cell_type": "markdown",
   "id": "33eb2b91",
   "metadata": {},
   "source": [
    "### CEBRA-Time: Train a model that uses time without the behavior information. \n",
    "- We can use CEBRA -Time mode by setting conditional = 'time'"
   ]
  },
  {
   "cell_type": "code",
   "id": "4e7f2d5c",
   "metadata": {},
   "outputs": [],
   "source": [
    "cebra_time3_model = CEBRA(model_architecture='offset10-model',\n",
    "                        batch_size=512,\n",
    "                        learning_rate=3e-4,\n",
    "                        temperature=1.12,\n",
    "                        output_dimension=3,\n",
    "                        max_iterations=max_iterations,\n",
    "                        distance='cosine',\n",
    "                        conditional='time',\n",
    "                        device='cuda_if_available',\n",
    "                        verbose=True,\n",
    "                        time_offsets=10)"
   ]
  },
  {
   "cell_type": "code",
   "id": "67f6b772",
   "metadata": {},
   "outputs": [
    {
     "name": "stderr",
     "output_type": "stream",
     "text": [
     ]
    }
   ],
   "source": [
    "cebra_time3_model.fit(hippocampus_pos.neural)\n",
    "cebra_time3 = cebra_time3_model.transform(hippocampus_pos.neural)"
   ]
  },
  {
   "cell_type": "markdown",
   "id": "19810110",
   "metadata": {},
   "source": [
    "### CEBRA-Hybrid: Train a model that uses both time and positional information. "
   ]
  },
  {
   "cell_type": "code",
   "id": "0e3fac11",
   "metadata": {},
   "outputs": [],
   "source": [
   ]
  },
  {
   "cell_type": "markdown",
   "id": "bda4b6ae",
   "metadata": {},
   "source": [
    "### Visualize the embeddings from CEBRA-Behavior, CEBRA-Time and CEBRA-Hybrid"
   ]
  },
  {
   "cell_type": "code",
   "id": "e834bf2f",
   "metadata": {},
   "outputs": [],
   "source": [
    "def plot_hippocampus(ax, embedding, label, gray = False, idx_order = (0,1,2)):\n",
    "    r_ind = label[:,1] == 1\n",
    "    l_ind = label[:,2] == 1\n",
    "    \n",
    "    if not gray:\n",
    "        r_cmap = 'cool'\n",
    "        l_cmap = 'viridis'\n",
    "        r_c = label[r_ind, 0]\n",
    "        l_c = label[l_ind, 0]\n",
    "    else:\n",
    "        r_cmap = None\n",
    "        l_cmap = None\n",
    "        r_c = 'gray'\n",
    "        l_c = 'gray'\n",
    "    \n",
    "    idx1, idx2, idx3 = idx_order\n",
    "    r=ax.scatter(embedding [r_ind,idx1], \n",
    "               embedding [r_ind,idx2], \n",
    "               embedding [r_ind,idx3], \n",
    "               c=r_c,\n",
    "               cmap=r_cmap, s=0.5)\n",
    "    l=ax.scatter(embedding [l_ind,idx1], \n",
    "               embedding [l_ind,idx2], \n",
    "               embedding [l_ind,idx3], \n",
    "               c=l_c,\n",
    "               cmap=l_cmap, s=0.5)\n",
    "    \n",
    "    ax.grid(False)\n",
    "    ax.xaxis.pane.fill = False\n",
    "    ax.yaxis.pane.fill = False\n",
    "    ax.zaxis.pane.fill = False\n",
    "    ax.xaxis.pane.set_edgecolor('w')\n",
    "    ax.yaxis.pane.set_edgecolor('w')\n",
    "    ax.zaxis.pane.set_edgecolor('w')\n",
    "        \n",
    "    return ax"
   "id": "c4ad4a94",
      "text/plain": [
       "<IPython.core.display.Javascript object>"
      ]
     },
     "metadata": {},
     "output_type": "display_data"
    },
    {
     "data": {
      "text/html": [
      ],
      "text/plain": [
       "<IPython.core.display.HTML object>"
      ]
     },
     "metadata": {},
     "output_type": "display_data"
    "%matplotlib notebook\n",
    "\n",
    "ax1 = plt.subplot(141, projection='3d')\n",
    "ax2 = plt.subplot(142, projection='3d')\n",
    "ax3 = plt.subplot(143, projection='3d')\n",
    "ax4 = plt.subplot(144, projection='3d')\n",
    "\n",
    "ax3=plot_hippocampus(ax3, cebra_time3, hippocampus_pos.continuous_index)\n",
    "\n",
    "ax1.set_title('CEBRA-Behavior')\n",
    "ax2.set_title('CEBRA-Shuffled')\n",
    "ax3.set_title('CEBRA-Time')\n",
   "id": "93a41a95",
    "### Hypothesis Testing: Train models with different hypothesis on position encoding of hippocampus. \n",
    "- We will compare CEBRA-Behavior models trained with only position, only direction, both and the control models with shuffled behavior variables. \n",
    "\n",
    "- For the purpose of decoding later, we will use a splitted data (80% train, 20% test) and only use train set to train the models."
   ]
  },
  {
   "cell_type": "code",
   "id": "80af9b07",
   "metadata": {},
   "outputs": [],
   "source": [
    "def split_data(data, test_ratio):\n",
    "\n",
    "    split_idx = int(len(data)* (1-test_ratio))\n",
    "    neural_train = data.neural[:split_idx]\n",
    "    neural_test = data.neural[split_idx:]\n",
    "    label_train = data.continuous_index[:split_idx]\n",
    "    label_test = data.continuous_index[split_idx:]\n",
    "    \n",
    "    return neural_train.numpy(), neural_test.numpy(), label_train.numpy(), label_test.numpy()\n",
    "\n",
    "neural_train, neural_test, label_train, label_test = split_data(hippocampus_pos, 0.2)"
   "cell_type": "code",
   "id": "c51fd73d",
   "metadata": {},
   "outputs": [],
   "source": [
    "cebra_posdir_model = CEBRA(model_architecture='offset10-model',\n",
    "                        batch_size=512,\n",
    "                        learning_rate=3e-4,\n",
    "                        temperature=1,\n",
    "                        max_iterations=max_iterations,\n",
    "                        distance='cosine',\n",
    "                        conditional='time_delta',\n",
    "                        device='cuda_if_available',\n",
    "                        verbose=True,\n",
    "                        time_offsets=10)\n",
    "\n",
    "                        batch_size=512,\n",
    "                        learning_rate=3e-4,\n",
    "                        temperature=1,\n",
    "                        max_iterations=max_iterations,\n",
    "                        distance='cosine',\n",
    "                        conditional='time_delta',\n",
    "                        device='cuda_if_available',\n",
    "                        verbose=True,\n",
    "                        time_offsets=10)\n",
    "\n",
    "                        batch_size=512,\n",
    "                        learning_rate=3e-4,\n",
    "                        temperature=1,\n",
    "                        max_iterations=max_iterations,\n",
    "                        distance='cosine',\n",
    "                        device='cuda_if_available',\n",
    "                        verbose=True)"
   ]
  },
  {
   "cell_type": "code",
   "id": "b43687d2",
   "metadata": {},
   "outputs": [
    }
   ],
   "source": [
    "# Train CEBRA-Behavior models with position, direction variable or both.\n",
    "# We get train set embedding and test set embedding. \n",
    "\n",
    "cebra_posdir_model.fit(neural_train, label_train)\n",
    "cebra_posdir_train = cebra_posdir_model.transform(neural_train)\n",
    "cebra_posdir_test = cebra_posdir_model.transform(neural_test)\n",
    "\n",
    "cebra_pos_model.fit(neural_train, label_train[:,0])\n",
    "cebra_dir_model.fit(neural_train, label_train[:,1])\n",
    "cebra_dir_test = cebra_dir_model.transform(neural_test)"
   ]
  },
  {
   "cell_type": "markdown",
   "id": "efc156bb",
   "metadata": {},
   "source": [
    "### Train control models with shuffled behavior variables. "
   ]
  },
  {
   "cell_type": "code",
   "id": "70750498",
   "outputs": [],
    "cebra_posdir_shuffled_model = CEBRA(model_architecture='offset10-model',\n",
    "                        batch_size=512,\n",
    "                        learning_rate=3e-4,\n",
    "                        temperature=1,\n",
    "                        max_iterations=max_iterations,\n",
    "                        distance='cosine',\n",
    "                        conditional='time_delta',\n",
    "                        device='cuda_if_available',\n",
    "                        verbose=True,\n",
    "                        time_offsets=10)\n",
    "\n",
    "cebra_pos_shuffled_model = CEBRA(model_architecture='offset10-model',\n",
    "                        batch_size=512,\n",
    "                        learning_rate=3e-4,\n",
    "                        temperature=1,\n",
    "                        max_iterations=max_iterations,\n",
    "                        distance='cosine',\n",
    "                        conditional='time_delta',\n",
    "                        device='cuda_if_available',\n",
    "                        verbose=True,\n",
    "                        time_offsets=10)\n",
    "\n",
    "cebra_dir_shuffled_model = CEBRA(model_architecture='offset10-model',\n",
    "                        batch_size=512,\n",
    "                        learning_rate=3e-4,\n",
    "                        temperature=1,\n",
    "                        max_iterations=max_iterations,\n",
    "                        distance='cosine',\n",
    "                        device='cuda_if_available',\n",
    "                        verbose=True)"
   ]
  },
  {
   "cell_type": "code",
   "id": "01e465a3",
   "metadata": {},
   "outputs": [
     ]
    }
   ],
   "source": [
    "# Generate shuffled behavior labels for train set.\n",
    "shuffled_posdir = np.random.permutation(label_train)\n",
    "shuffled_pos = np.random.permutation(label_train[:,0])\n",
    "shuffled_dir = np.random.permutation(label_train[:,1])\n",
    "\n",
    "# Train the models with shuffled behavior variables and get train/test embeddings\n",
    "cebra_posdir_shuffled_model.fit(neural_train, shuffled_posdir)\n",
    "cebra_posdir_shuffled_train = cebra_posdir_shuffled_model.transform(neural_train)\n",
    "cebra_posdir_shuffled_test = cebra_posdir_shuffled_model.transform(neural_test)\n",
    "\n",
    "cebra_pos_shuffled_model.fit(neural_train, shuffled_pos)\n",
    "cebra_pos_shuffled_train = cebra_pos_shuffled_model.transform(neural_train)\n",
    "cebra_pos_shuffled_test = cebra_pos_shuffled_model.transform(neural_test)\n",
    "\n",
    "cebra_dir_shuffled_model.fit(neural_train, shuffled_dir)\n",
    "cebra_dir_shuffled_train = cebra_dir_shuffled_model.transform(neural_train)\n",
    "cebra_dir_shuffled_test = cebra_dir_shuffled_model.transform(neural_test)"
   ]
  },
  {
   "cell_type": "markdown",
   "id": "15f1fafd",
   "metadata": {},
   "source": [
    "### Visualize embeddings from different hypothesis"
   "id": "2ec24f5f",
   "metadata": {},
   "outputs": [],
   "source": [
    "cebra_posdir_all = cebra_posdir_model.transform(hippocampus_pos.neural)\n",
    "\n",
    "cebra_pos_shuffled_all = cebra_pos_shuffled_model.transform(hippocampus_pos.neural)\n",
    "cebra_dir_shuffled_all = cebra_dir_shuffled_model.transform(hippocampus_pos.neural)\n",
    "cebra_posdir_shuffled_all = cebra_posdir_shuffled_model.transform(hippocampus_pos.neural)"
   ]
  },
  {
   "cell_type": "code",
   "id": "2826f7a6",
   "metadata": {},
   "outputs": [
    {
     "data": {
      ]
     },
     "metadata": {},
     "output_type": "display_data"
    }
   ],
   "source": [
    "fig = plt.figure(figsize=(5,5))\n",
    "ax = plt.subplot(111)\n",
    "ax.plot(cebra_posdir_model.state_dict_['loss'], c='deepskyblue', label = 'position+direction')\n",
    "ax.plot(cebra_pos_model.state_dict_['loss'], c='deepskyblue', alpha = 0.3, label = 'position')\n",
    "ax.plot(cebra_dir_model.state_dict_['loss'], c='deepskyblue', alpha=0.6,label = 'direction')\n",
    "ax.plot(cebra_posdir_shuffled_model.state_dict_['loss'], c='gray', label = 'pos+dir, shuffled')\n",
    "ax.plot(cebra_pos_shuffled_model.state_dict_['loss'], c='gray', alpha = 0.3, label = 'position, shuffled')\n",
    "ax.plot(cebra_dir_shuffled_model.state_dict_['loss'],c='gray', alpha=0.6,label = 'direction, shuffled')\n",
    "\n",
    "ax.spines['top'].set_visible(False)\n",
    "ax.spines['right'].set_visible(False)\n",
    "ax.set_xlabel('Iterations')\n",
    "ax.set_ylabel('InfoNCE Loss')\n",
    "plt.legend(bbox_to_anchor=(0.5,0.3), frameon = False )\n",
    "plt.show()"
   ]
  },
  {
   "cell_type": "markdown",
   "id": "6a921abf",
   "metadata": {},
   "source": [
    "### Decoding: we evaluate decoding performance of the different hypothesis models."
   ]
  },
  {
   "cell_type": "code",
   "id": "ba97a1c5",
   "metadata": {},
   "outputs": [],
   "source": [
    "# Define decoding function with kNN decoder. For a simple demo, we will use the fixed number of neighbors 36.\n",
    "\n",
    "from sklearn.neighbors import KNeighborsRegressor, KNeighborsClassifier\n",
    "import sklearn.metrics\n",
    "\n",
    "def decoding_pos_dir(emb_train, emb_test, label_train, label_test, n_neighbors=36):\n",
    "    pos_decoder = KNeighborsRegressor(n_neighbors, metric = 'cosine')\n",
    "    dir_decoder = KNeighborsClassifier(n_neighbors, metric = 'cosine')\n",
    "    \n",
    "    pos_decoder.fit(emb_train, label_train[:,0])\n",
    "    dir_decoder.fit(emb_train, label_train[:,1])\n",
    "    \n",
    "    pos_pred = pos_decoder.predict(emb_test)\n",
    "    dir_pred = dir_decoder.predict(emb_test)\n",
    "    \n",
    "    prediction =np.stack([pos_pred, dir_pred],axis = 1)\n",
    "\n",
    "    test_score = sklearn.metrics.r2_score(label_test[:,:2], prediction)\n",
    "    pos_test_err = np.median(abs(prediction[:,0] - label_test[:, 0]))\n",
    "    pos_test_score = sklearn.metrics.r2_score(label_test[:, 0], prediction[:,0])\n",
    "    \n",
    "    return test_score, pos_test_err, pos_test_score"
   ]
  },
  {
   "cell_type": "markdown",
   "id": "abe39376",
   "metadata": {},
   "source": [
    "- Decode the position and direction from the trained hypothesis models"
   ]
  },
  {
   "cell_type": "code",
   "id": "389afe84",
   "metadata": {},
   "outputs": [],
   "source": [
    "cebra_posdir_decode = decoding_pos_dir(cebra_posdir_train, cebra_posdir_test, label_train, label_test)\n",
    "cebra_pos_decode = decoding_pos_dir(cebra_pos_train, cebra_pos_test, label_train, label_test)\n",
    "cebra_dir_decode = decoding_pos_dir(cebra_dir_train, cebra_dir_test, label_train, label_test)\n",
    "cebra_posdir_shuffled_decode = decoding_pos_dir(cebra_posdir_shuffled_train, cebra_posdir_shuffled_test, label_train, label_test)\n",
    "cebra_pos_shuffled_decode = decoding_pos_dir(cebra_pos_shuffled_train, cebra_pos_shuffled_test, label_train, label_test)\n",
    "cebra_dir_shuffled_decode = decoding_pos_dir(cebra_dir_shuffled_train, cebra_dir_shuffled_test, label_train, label_test)\n"
   ]
  },
  {
   "cell_type": "markdown",
   "id": "b2ec095a",
   "metadata": {},
   "source": [
    "### Visualize the decoding results and loss - decoding performance"
   ]
  },
  {
   "cell_type": "code",
   "metadata": {},
  {
   "cell_type": "code",
   "source": [
   ]
  },
  {
   "cell_type": "markdown",
   "metadata": {},
   "source": [
   ]
  },
  {
   "cell_type": "code",
   "metadata": {},
   "outputs": [],
   "source": [
   ]
  },
  {
   "cell_type": "markdown",
   "metadata": {},
   "source": [
   ]
  },
  {
   "cell_type": "code",
   "metadata": {},
   "outputs": [],
   "source": [
     "metadata": {},
     "metadata": {},
     "metadata": {},
   ]
  },
  {
   "cell_type": "markdown",
   "metadata": {},
   "source": [
   ]
  },
  {
   "cell_type": "code",
   "metadata": {},
   "source": [
     "metadata": {},
   ]
  },
  {
   "cell_type": "markdown",
   "metadata": {},
   "source": [
   ]
  },
  {
   "cell_type": "code",
   "metadata": {},
   "source": [
   ]
  },
  {
   "cell_type": "code",
   "metadata": {},
   "outputs": [],
   "source": [
       "<Figure size 700x600 with 2 Axes>"
     "metadata": {},
       "<Figure size 700x600 with 2 Axes>"
     "metadata": {},
       "<Figure size 700x600 with 2 Axes>"
     "metadata": {},
   ]
  },
  {
   "cell_type": "markdown",
   "metadata": {},
   "source": [
   ]
  },
  {
   "cell_type": "code",
   "metadata": {},
   "outputs": [],
   "source": [
   ]
  },
  {
   "cell_type": "code",
   "metadata": {},
    {
     "name": "stderr",
     "output_type": "stream",
     "text": [
      "  warnings.warn(\"Could not accurately determine screen size\")\n"
     ]
    },
   "source": [
    "\n",
    "rl_stack=np.vstack([X[r_ind], X[l_ind]])\n",
    "label_stack = np.vstack([label[r_ind], label[l_ind]])\n",
    "\n",
    "c1 = plt.get_cmap('cool')\n",
    "C1 = c1(label[r_ind,0])\n",
    "c2 = plt.get_cmap('viridis')\n",
    "C2 = c2(label[l_ind,0])\n",
    "\n",
    "C = np.vstack([C1,C2])\n",
    "\n",
    "def plot_circles(ax):\n",
    "    ax.scatter(rl_stack[:, 0], rl_stack[:, 1], c=C)\n",
    "\n",
    "\n",
    "cc = CircularCoords(rl_stack, 1000, prime = prime)\n",
    "cc.plot_torii(C, coords_info=2, plots_in_one=3, lowerleft_plot=plot_circles)\n"
   ]

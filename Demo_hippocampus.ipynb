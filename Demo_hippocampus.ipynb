     "metadata": {},
    "max_iterations = 10000 #default is 5000.\n",
   "id": "80af9b07",
    "\n",
    "                        verbose=True)"
    "cebra_posdir_model.fit(neural_train, label_train)\n",
    "cebra_posdir_train = cebra_posdir_model.transform(neural_train)\n",
    "cebra_posdir_test = cebra_posdir_model.transform(neural_test)\n",
    "\n",
    "cebra_pos_model.fit(neural_train, label_train[:,0])\n",
    "cebra_dir_model.fit(neural_train, label_train[:,1])\n",
    "cebra_dir_test = cebra_dir_model.transform(neural_test)"
    "cebra_posdir_shuffled_model = CEBRA(model_architecture='offset10-model',\n",
    "\n",
    "cebra_pos_shuffled_model = CEBRA(model_architecture='offset10-model',\n",
    "\n",
    "cebra_dir_shuffled_model = CEBRA(model_architecture='offset10-model',\n",
    "                        verbose=True)"
    "cebra_posdir_all = cebra_posdir_model.transform(hippocampus_pos.neural)\n",
    "\n",
    "cebra_pos_shuffled_all = cebra_pos_shuffled_model.transform(hippocampus_pos.neural)\n",
    "cebra_dir_shuffled_all = cebra_dir_shuffled_model.transform(hippocampus_pos.neural)\n",
    "cebra_posdir_shuffled_all = cebra_posdir_shuffled_model.transform(hippocampus_pos.neural)"
   ]
  },
  {
   "cell_type": "code",
   "id": "2826f7a6",
   "metadata": {},
   "outputs": [
    {
     "data": {
      ]
     },
     "metadata": {},
     "output_type": "display_data"
    }
   ],
   "source": [
    "fig = plt.figure(figsize=(5,5))\n",
    "ax = plt.subplot(111)\n",
    "ax.plot(cebra_posdir_model.state_dict_['loss'], c='deepskyblue', label = 'position+direction')\n",
    "ax.plot(cebra_pos_model.state_dict_['loss'], c='deepskyblue', alpha = 0.3, label = 'position')\n",
    "ax.plot(cebra_dir_model.state_dict_['loss'], c='deepskyblue', alpha=0.6,label = 'direction')\n",
    "ax.plot(cebra_posdir_shuffled_model.state_dict_['loss'], c='gray', label = 'pos+dir, shuffled')\n",
    "ax.plot(cebra_pos_shuffled_model.state_dict_['loss'], c='gray', alpha = 0.3, label = 'position, shuffled')\n",
    "ax.plot(cebra_dir_shuffled_model.state_dict_['loss'],c='gray', alpha=0.6,label = 'direction, shuffled')\n",
    "\n",
    "ax.spines['top'].set_visible(False)\n",
    "ax.spines['right'].set_visible(False)\n",
    "ax.set_xlabel('Iterations')\n",
    "ax.set_ylabel('InfoNCE Loss')\n",
    "plt.legend(bbox_to_anchor=(0.5,0.3), frameon = False )\n",
    "plt.show()"
   ]
  },
  {
   "cell_type": "markdown",
   "id": "6a921abf",
   "metadata": {},
   "source": [
    "### Decoding: we evaluate decoding performance of the different hypothesis models."
   ]
  },
  {
   "cell_type": "code",
   "id": "ba97a1c5",
   "metadata": {},
   "outputs": [],
   "source": [
    "# Define decoding function with kNN decoder. For a simple demo, we will use the fixed number of neighbors 36.\n",
    "\n",
    "from sklearn.neighbors import KNeighborsRegressor, KNeighborsClassifier\n",
    "import sklearn.metrics\n",
    "\n",
    "def decoding_pos_dir(emb_train, emb_test, label_train, label_test, n_neighbors=36):\n",
    "    pos_decoder = KNeighborsRegressor(n_neighbors, metric = 'cosine')\n",
    "    dir_decoder = KNeighborsClassifier(n_neighbors, metric = 'cosine')\n",
    "    \n",
    "    pos_decoder.fit(emb_train, label_train[:,0])\n",
    "    dir_decoder.fit(emb_train, label_train[:,1])\n",
    "    \n",
    "    pos_pred = pos_decoder.predict(emb_test)\n",
    "    dir_pred = dir_decoder.predict(emb_test)\n",
    "    \n",
    "    prediction =np.stack([pos_pred, dir_pred],axis = 1)\n",
    "\n",
    "    test_score = sklearn.metrics.r2_score(label_test[:,:2], prediction)\n",
    "    pos_test_err = np.median(abs(prediction[:,0] - label_test[:, 0]))\n",
    "    pos_test_score = sklearn.metrics.r2_score(label_test[:, 0], prediction[:,0])\n",
    "    \n",
    "    return test_score, pos_test_err, pos_test_score"
   ]
  },
  {
   "cell_type": "markdown",
   "id": "abe39376",
   "metadata": {},
   "source": [
    "- Decode the position and direction from the trained hypothesis models"
   ]
  },
  {
   "cell_type": "code",
   "id": "389afe84",
   "metadata": {},
   "outputs": [],
   "source": [
    "cebra_posdir_decode = decoding_pos_dir(cebra_posdir_train, cebra_posdir_test, label_train, label_test)\n",
    "cebra_pos_decode = decoding_pos_dir(cebra_pos_train, cebra_pos_test, label_train, label_test)\n",
    "cebra_dir_decode = decoding_pos_dir(cebra_dir_train, cebra_dir_test, label_train, label_test)\n",
    "cebra_posdir_shuffled_decode = decoding_pos_dir(cebra_posdir_shuffled_train, cebra_posdir_shuffled_test, label_train, label_test)\n",
    "cebra_pos_shuffled_decode = decoding_pos_dir(cebra_pos_shuffled_train, cebra_pos_shuffled_test, label_train, label_test)\n",
    "cebra_dir_shuffled_decode = decoding_pos_dir(cebra_dir_shuffled_train, cebra_dir_shuffled_test, label_train, label_test)\n"
   ]
  },
  {
   "cell_type": "markdown",
   "id": "b2ec095a",
   "metadata": {},
   "source": [
    "### Visualize the decoding results and loss - decoding performance"
   ]
  },
  {
   "cell_type": "code",
   "metadata": {},
     "metadata": {},
     "metadata": {},
     "metadata": {},
     "metadata": {},
       "<Figure size 700x600 with 2 Axes>"
     "metadata": {},
       "<Figure size 700x600 with 2 Axes>"
     "metadata": {},
       "<Figure size 700x600 with 2 Axes>"
     "metadata": {},
    {
     "name": "stderr",
     "output_type": "stream",
     "text": [
      "  warnings.warn(\"Could not accurately determine screen size\")\n"
     ]
    },

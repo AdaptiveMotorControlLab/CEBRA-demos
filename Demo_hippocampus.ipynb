{
 "cells": [
  {
   "cell_type": "markdown",
   "id": "ba5491e4",
   "metadata": {},
   "source": [
   ]
  },
  {
   "cell_type": "markdown",
   "id": "2acff9e0",
   "metadata": {},
   "source": [
    "!pip install 'cebra[dev,demos]'"
   ]
  },
  {
   "cell_type": "code",
   "execution_count": 1,
   "id": "e7581e3f",
   "metadata": {},
   "outputs": [],
   "source": [
    "import sys\n",
    "\n",
    "import numpy as np\n",
    "import pandas as pd\n",
    "import matplotlib.pyplot as plt\n",
    "import joblib as jl\n",
    "import cebra.datasets\n",
    "from cebra import CEBRA\n",
    "\n",
    "from matplotlib.collections import LineCollection\n",
    "import pandas as pd"
   ]
  },
  {
   "cell_type": "markdown",
   "id": "d275cc69",
   "metadata": {},
   "source": [
   ]
  },
  {
   "cell_type": "code",
   "id": "da97cdb7",
   "metadata": {},
   "outputs": [
    {
     "name": "stdout",
     "output_type": "stream",
     "text": [
     ]
    }
   ],
   "source": [
    "ls"
   ]
  },
  {
   "cell_type": "markdown",
   "id": "11734438",
   "metadata": {},
   "source": [
    "### Load the data:"
   ]
  },
  {
   "cell_type": "code",
   "id": "f5f8531d",
   "metadata": {},
   "outputs": [],
   "source": [
    "hippocampus_pos = cebra.datasets.init('rat-hippocampus-single-achilles')"
   ]
  },
  {
   "cell_type": "markdown",
   "id": "25b87742",
   "metadata": {},
   "source": [
    "### Visualize the data:"
   ]
  },
  {
   "cell_type": "code",
   "execution_count": 4,
   "id": "6019b83e",
   "metadata": {},
   "outputs": [
    {
     "data": {
      "text/plain": [
       "<Figure size 1350x450 with 2 Axes>"
      ]
     },
     "metadata": {},
     "output_type": "display_data"
    }
   ],
   "source": [
    "fig = plt.figure(figsize=(9,3), dpi=150)\n",
    "plt.subplots_adjust(wspace = 0.3)\n",
    "ax = plt.subplot(121)\n",
    "ax.imshow(hippocampus_pos.neural.numpy()[:1000].T, aspect = 'auto', cmap = 'gray_r')\n",
    "plt.ylabel('Neuron #')\n",
    "plt.xlabel('Time [s]')\n",
    "plt.xticks(np.linspace(0, 1000, 5), np.linspace(0, 0.025*1000, 5, dtype = int))\n",
    "\n",
    "ax2 = plt.subplot(122)\n",
    "ax2.scatter(np.arange(1000), hippocampus_pos.continuous_index[:1000,0], c = 'gray', s=1)\n",
    "plt.ylabel('Position [m]')\n",
    "plt.xlabel('Time [s]')\n",
    "plt.xticks(np.linspace(0, 1000, 5), np.linspace(0, 0.025*1000, 5, dtype = int))\n",
    "plt.show()"
   ]
  },
  {
   "cell_type": "markdown",
   "id": "ce4f1815",
   "metadata": {},
   "source": [
    "### CEBRA-Behavior: Train a model with 3D output that uses positional information (position + direction).\n",
    "- Setting conditional = 'time_delta' means we will use CEBRA-Behavior mode and use auxiliary behavior variable for the model training."
   ]
  },
  {
   "cell_type": "markdown",
   "id": "901b1a30",
   "metadata": {},
   "source": [
    "- For a quick CPU run-time demo, you can drop `max_iterations` to 100-500; otherwise set to 5000.\n",
    "- For reproducing Figure 2, we use dimension 3 for the infoNCE loss. You can otherwise set it higher."
   ]
  },
  {
   "cell_type": "code",
   "id": "f2a10dbd",
   "metadata": {},
   "outputs": [],
   "source": [
    "max_iterations = 10000 #default is 5000.\n",
    "output_dimension = 32 #here, we set as a variable for hypothesis testing below."
   ]
  },
  {
   "cell_type": "code",
   "id": "00a451d4",
   "metadata": {},
   "outputs": [],
   "source": [
    "cebra_posdir3_model = CEBRA(model_architecture='offset10-model',\n",
    "                        batch_size=512,\n",
    "                        learning_rate=3e-4,\n",
    "                        temperature=1,\n",
    "                        output_dimension=3,\n",
    "                        max_iterations=max_iterations,\n",
    "                        distance='cosine',\n",
    "                        conditional='time_delta',\n",
    "                        device='cuda_if_available',\n",
    "                        verbose=True,\n",
    "                        time_offsets=10)"
   ]
  },
  {
   "cell_type": "markdown",
   "id": "184df8b3",
   "metadata": {},
   "source": [
    "### We train the model with neural data and the behavior variable including position and direction. "
   ]
  },
  {
   "cell_type": "code",
   "id": "f3923b23",
   "metadata": {},
   "outputs": [
    {
     "name": "stderr",
     "output_type": "stream",
     "text": [
     ]
    }
   ],
   "source": [
    "cebra_posdir3_model.fit(hippocampus_pos.neural, hippocampus_pos.continuous_index.numpy())\n",
    "cebra_posdir3 = cebra_posdir3_model.transform(hippocampus_pos.neural)"
   ]
  },
  {
   "cell_type": "markdown",
   "id": "8beda57b",
   "metadata": {},
   "source": [
    "### CEBRA-Shuffled Behavior: Train a control model with shuffled neural data.\n",
    "- The model specification is the same as the CEBRA-Behavior above."
   ]
  },
  {
   "cell_type": "code",
   "id": "d1828c67",
   "metadata": {},
   "outputs": [],
   "source": [
    "cebra_posdir_shuffled3_model = CEBRA(model_architecture='offset10-model',\n",
    "                        batch_size=512,\n",
    "                        learning_rate=3e-4,\n",
    "                        temperature=1,\n",
    "                        output_dimension=3,\n",
    "                        max_iterations=max_iterations,\n",
    "                        distance='cosine',\n",
    "                        conditional='time_delta',\n",
    "                        device='cuda_if_available',\n",
    "                        verbose=True,\n",
    "                        time_offsets=10)"
   ]
  },
  {
   "cell_type": "markdown",
   "id": "2f72a42c",
   "metadata": {},
   "source": [
    "- Now we train the model with shuffled behavior variable. "
   ]
  },
  {
   "cell_type": "code",
   "id": "fe3705e3",
   "metadata": {},
   "outputs": [
    {
     "name": "stderr",
     "output_type": "stream",
     "text": [
     ]
    }
   ],
   "source": [
    "### Shuffle the behavior variable and use it for training\n",
    "cebra_posdir_shuffled3_model.fit(hippocampus_pos.neural, hippocampus_shuffled_posdir)\n",
    "cebra_posdir_shuffled3 = cebra_posdir_shuffled3_model.transform(hippocampus_pos.neural)"
   ]
  },
  {
   "cell_type": "markdown",
   "id": "33eb2b91",
   "metadata": {},
   "source": [
    "### CEBRA-Time: Train a model that uses time without the behavior information. \n",
    "- We can use CEBRA -Time mode by setting conditional = 'time'"
   ]
  },
  {
   "cell_type": "code",
   "id": "4e7f2d5c",
   "metadata": {},
   "outputs": [],
   "source": [
    "cebra_time3_model = CEBRA(model_architecture='offset10-model',\n",
    "                        batch_size=512,\n",
    "                        learning_rate=3e-4,\n",
    "                        temperature=1.12,\n",
    "                        output_dimension=3,\n",
    "                        max_iterations=max_iterations,\n",
    "                        distance='cosine',\n",
    "                        conditional='time',\n",
    "                        device='cuda_if_available',\n",
    "                        verbose=True,\n",
    "                        time_offsets=10)"
   ]
  },
  {
   "cell_type": "code",
   "id": "67f6b772",
   "metadata": {},
   "outputs": [
    {
     "name": "stderr",
     "output_type": "stream",
     "text": [
     ]
    }
   ],
   "source": [
    "cebra_time3_model.fit(hippocampus_pos.neural)\n",
    "cebra_time3 = cebra_time3_model.transform(hippocampus_pos.neural)"
   ]
  },
  {
   "cell_type": "markdown",
   "id": "19810110",
   "metadata": {},
   "source": [
    "### CEBRA-Hybrid: Train a model that uses both time and positional information. "
   ]
  },
  {
   "cell_type": "code",
   "id": "0e3fac11",
   "metadata": {},
   "outputs": [],
   "source": [
    "cebra_hybrid_model = CEBRA(model_architecture='offset10-model',\n",
    "                        batch_size=512,\n",
    "                        learning_rate=3e-4,\n",
    "                        temperature=1,\n",
    "                        output_dimension=3,\n",
    "                        max_iterations=max_iterations,\n",
    "                        distance='cosine',\n",
    "                        conditional='time_delta',\n",
    "                        device='cuda_if_available',\n",
    "                        verbose=True,\n",
    "                        time_offsets=10,\n",
    "                        hybrid = True)"
   ]
  },
  {
   "cell_type": "code",
   "id": "3fb33bb9",
   "metadata": {},
   "outputs": [
    {
     "name": "stderr",
     "output_type": "stream",
     "text": [
     ]
    }
   ],
   "source": [
    "cebra_hybrid_model.fit(hippocampus_pos.neural, hippocampus_pos.continuous_index.numpy())\n",
    "cebra_hybrid = cebra_hybrid_model.transform(hippocampus_pos.neural)"
   ]
  },
  {
   "cell_type": "markdown",
   "id": "bda4b6ae",
   "metadata": {},
   "source": [
    "### Visualize the embeddings from CEBRA-Behavior, CEBRA-Time and CEBRA-Hybrid"
   ]
  },
  {
   "cell_type": "code",
   "id": "e834bf2f",
   "metadata": {},
   "outputs": [],
   "source": [
    "def plot_hippocampus(ax, embedding, label, gray = False, idx_order = (0,1,2)):\n",
    "    r_ind = label[:,1] == 1\n",
    "    l_ind = label[:,2] == 1\n",
    "    \n",
    "    if not gray:\n",
    "        r_cmap = 'cool'\n",
    "        l_cmap = 'viridis'\n",
    "        r_c = label[r_ind, 0]\n",
    "        l_c = label[l_ind, 0]\n",
    "    else:\n",
    "        r_cmap = None\n",
    "        l_cmap = None\n",
    "        r_c = 'gray'\n",
    "        l_c = 'gray'\n",
    "    \n",
    "    idx1, idx2, idx3 = idx_order\n",
    "    r=ax.scatter(embedding [r_ind,idx1], \n",
    "               embedding [r_ind,idx2], \n",
    "               embedding [r_ind,idx3], \n",
    "               c=r_c,\n",
    "               cmap=r_cmap, s=0.5)\n",
    "    l=ax.scatter(embedding [l_ind,idx1], \n",
    "               embedding [l_ind,idx2], \n",
    "               embedding [l_ind,idx3], \n",
    "               c=l_c,\n",
    "               cmap=l_cmap, s=0.5)\n",
    "    \n",
    "    ax.grid(False)\n",
    "    ax.xaxis.pane.fill = False\n",
    "    ax.yaxis.pane.fill = False\n",
    "    ax.zaxis.pane.fill = False\n",
    "    ax.xaxis.pane.set_edgecolor('w')\n",
    "    ax.yaxis.pane.set_edgecolor('w')\n",
    "    ax.zaxis.pane.set_edgecolor('w')\n",
    "        \n",
    "    return ax"
   ]
  },
  {
   "cell_type": "code",
   "id": "c4ad4a94",
   "metadata": {
    "scrolled": true
   },
   "outputs": [
    {
     "data": {
      "text/plain": [
       "<IPython.core.display.Javascript object>"
      ]
     },
     "metadata": {},
     "output_type": "display_data"
    },
    {
     "data": {
      "text/html": [
      ],
      "text/plain": [
       "<IPython.core.display.HTML object>"
      ]
     },
     "metadata": {},
     "output_type": "display_data"
    }
   ],
   "source": [
    "%matplotlib notebook\n",
    "fig = plt.figure(figsize=(10,2))\n",
    "\n",
    "ax1 = plt.subplot(141, projection='3d')\n",
    "ax2 = plt.subplot(142, projection='3d')\n",
    "ax3 = plt.subplot(143, projection='3d')\n",
    "ax4 = plt.subplot(144, projection='3d')\n",
    "\n",
    "ax1=plot_hippocampus(ax1, cebra_posdir3, hippocampus_pos.continuous_index)\n",
    "ax2=plot_hippocampus(ax2, cebra_posdir_shuffled3, hippocampus_pos.continuous_index)\n",
    "ax3=plot_hippocampus(ax3, cebra_time3, hippocampus_pos.continuous_index)\n",
    "ax4=plot_hippocampus(ax4, cebra_hybrid, hippocampus_pos.continuous_index)\n",
    "\n",
    "ax1.set_title('CEBRA-Behavior')\n",
    "ax2.set_title('CEBRA-Shuffled')\n",
    "ax3.set_title('CEBRA-Time')\n",
    "ax4.set_title('CEBRA-Hybrid')\n",
    "plt.show()"
   ]
  },
  {
   "cell_type": "markdown",
   "id": "93a41a95",
   "metadata": {},
   "source": [
    "### Hypothesis Testing: Train models with different hypothesis on position encoding of hippocampus. \n",
    "- We will compare CEBRA-Behavior models trained with only position, only direction, both and the control models with shuffled behavior variables. \n",
    "\n",
    "- Here, we use the set model dimension; in the paper we used 3-64 on the hippocampus data (and found a consistent topology across these dimensions).\n",
    "\n",
    "- For the purpose of decoding later, we will use a splitted data (80% train, 20% test) and only use train set to train the models."
   ]
  },
  {
   "cell_type": "code",
   "id": "80af9b07",
   "metadata": {},
   "outputs": [],
   "source": [
    "def split_data(data, test_ratio):\n",
    "\n",
    "    split_idx = int(len(data)* (1-test_ratio))\n",
    "    neural_train = data.neural[:split_idx]\n",
    "    neural_test = data.neural[split_idx:]\n",
    "    label_train = data.continuous_index[:split_idx]\n",
    "    label_test = data.continuous_index[split_idx:]\n",
    "    \n",
    "    return neural_train.numpy(), neural_test.numpy(), label_train.numpy(), label_test.numpy()\n",
    "\n",
    "neural_train, neural_test, label_train, label_test = split_data(hippocampus_pos, 0.2)"
   ]
  },
  {
   "cell_type": "code",
   "id": "c51fd73d",
   "metadata": {},
   "outputs": [],
   "source": [
    "cebra_posdir_model = CEBRA(model_architecture='offset10-model',\n",
    "                        batch_size=512,\n",
    "                        learning_rate=3e-4,\n",
    "                        temperature=1,\n",
    "                        output_dimension=output_dimension,\n",
    "                        max_iterations=max_iterations,\n",
    "                        distance='cosine',\n",
    "                        conditional='time_delta',\n",
    "                        device='cuda_if_available',\n",
    "                        verbose=True,\n",
    "                        time_offsets=10)\n",
    "\n",
    "cebra_pos_model = CEBRA(model_architecture='offset10-model',\n",
    "                        batch_size=512,\n",
    "                        learning_rate=3e-4,\n",
    "                        temperature=1,\n",
    "                        output_dimension=output_dimension,\n",
    "                        max_iterations=max_iterations,\n",
    "                        distance='cosine',\n",
    "                        conditional='time_delta',\n",
    "                        device='cuda_if_available',\n",
    "                        verbose=True,\n",
    "                        time_offsets=10)\n",
    "\n",
    "cebra_dir_model = CEBRA(model_architecture='offset10-model',\n",
    "                        batch_size=512,\n",
    "                        learning_rate=3e-4,\n",
    "                        temperature=1,\n",
    "                        output_dimension=output_dimension,\n",
    "                        max_iterations=max_iterations,\n",
    "                        distance='cosine',\n",
    "                        device='cuda_if_available',\n",
    "                        verbose=True)"
   ]
  },
  {
   "cell_type": "code",
   "id": "b43687d2",
   "metadata": {},
   "outputs": [
    {
     "name": "stderr",
     "output_type": "stream",
     "text": [
     ]
    }
   ],
   "source": [
    "# Train CEBRA-Behavior models with position, direction variable or both.\n",
    "# We get train set embedding and test set embedding. \n",
    "\n",
    "cebra_posdir_model.fit(neural_train, label_train)\n",
    "cebra_posdir_train = cebra_posdir_model.transform(neural_train)\n",
    "cebra_posdir_test = cebra_posdir_model.transform(neural_test)\n",
    "\n",
    "cebra_pos_model.fit(neural_train, label_train[:,0])\n",
    "cebra_pos_train = cebra_pos_model.transform(neural_train)\n",
    "cebra_pos_test = cebra_pos_model.transform(neural_test)\n",
    "\n",
    "cebra_dir_model.fit(neural_train, label_train[:,1])\n",
    "cebra_dir_train = cebra_dir_model.transform(neural_train)\n",
    "cebra_dir_test = cebra_dir_model.transform(neural_test)"
   ]
  },
  {
   "cell_type": "markdown",
   "id": "efc156bb",
   "metadata": {},
   "source": [
    "### Train control models with shuffled behavior variables. "
   ]
  },
  {
   "cell_type": "code",
   "id": "70750498",
   "metadata": {},
   "outputs": [],
   "source": [
    "cebra_posdir_shuffled_model = CEBRA(model_architecture='offset10-model',\n",
    "                        batch_size=512,\n",
    "                        learning_rate=3e-4,\n",
    "                        temperature=1,\n",
    "                        output_dimension=output_dimension,\n",
    "                        max_iterations=max_iterations,\n",
    "                        distance='cosine',\n",
    "                        conditional='time_delta',\n",
    "                        device='cuda_if_available',\n",
    "                        verbose=True,\n",
    "                        time_offsets=10)\n",
    "\n",
    "cebra_pos_shuffled_model = CEBRA(model_architecture='offset10-model',\n",
    "                        batch_size=512,\n",
    "                        learning_rate=3e-4,\n",
    "                        temperature=1,\n",
    "                        output_dimension=output_dimension,\n",
    "                        max_iterations=max_iterations,\n",
    "                        distance='cosine',\n",
    "                        conditional='time_delta',\n",
    "                        device='cuda_if_available',\n",
    "                        verbose=True,\n",
    "                        time_offsets=10)\n",
    "\n",
    "cebra_dir_shuffled_model = CEBRA(model_architecture='offset10-model',\n",
    "                        batch_size=512,\n",
    "                        learning_rate=3e-4,\n",
    "                        temperature=1,\n",
    "                        output_dimension=output_dimension,\n",
    "                        max_iterations=max_iterations,\n",
    "                        distance='cosine',\n",
    "                        device='cuda_if_available',\n",
    "                        verbose=True)"
   ]
  },
  {
   "cell_type": "code",
   "id": "01e465a3",
   "metadata": {},
   "outputs": [
    {
     "name": "stderr",
     "output_type": "stream",
     "text": [
     ]
    }
   ],
   "source": [
    "# Generate shuffled behavior labels for train set.\n",
    "shuffled_posdir = np.random.permutation(label_train)\n",
    "shuffled_pos = np.random.permutation(label_train[:,0])\n",
    "shuffled_dir = np.random.permutation(label_train[:,1])\n",
    "\n",
    "# Train the models with shuffled behavior variables and get train/test embeddings\n",
    "cebra_posdir_shuffled_model.fit(neural_train, shuffled_posdir)\n",
    "cebra_posdir_shuffled_train = cebra_posdir_shuffled_model.transform(neural_train)\n",
    "cebra_posdir_shuffled_test = cebra_posdir_shuffled_model.transform(neural_test)\n",
    "\n",
    "cebra_pos_shuffled_model.fit(neural_train, shuffled_pos)\n",
    "cebra_pos_shuffled_train = cebra_pos_shuffled_model.transform(neural_train)\n",
    "cebra_pos_shuffled_test = cebra_pos_shuffled_model.transform(neural_test)\n",
    "\n",
    "cebra_dir_shuffled_model.fit(neural_train, shuffled_dir)\n",
    "cebra_dir_shuffled_train = cebra_dir_shuffled_model.transform(neural_train)\n",
    "cebra_dir_shuffled_test = cebra_dir_shuffled_model.transform(neural_test)"
   ]
  },
  {
   "cell_type": "markdown",
   "id": "15f1fafd",
   "metadata": {},
   "source": [
    "### Visualize embeddings from different hypothesis"
   ]
  },
  {
   "cell_type": "code",
   "id": "2ec24f5f",
   "metadata": {},
   "outputs": [],
   "source": [
    "cebra_pos_all = cebra_pos_model.transform(hippocampus_pos.neural)\n",
    "cebra_dir_all = cebra_dir_model.transform(hippocampus_pos.neural)\n",
    "cebra_posdir_all = cebra_posdir_model.transform(hippocampus_pos.neural)\n",
    "\n",
    "cebra_pos_shuffled_all = cebra_pos_shuffled_model.transform(hippocampus_pos.neural)\n",
    "cebra_dir_shuffled_all = cebra_dir_shuffled_model.transform(hippocampus_pos.neural)\n",
    "cebra_posdir_shuffled_all = cebra_posdir_shuffled_model.transform(hippocampus_pos.neural)"
   ]
  },
  {
   "cell_type": "code",
   "id": "2826f7a6",
   "metadata": {},
   "outputs": [
    {
     "data": {
      "text/plain": [
      ]
     },
     "metadata": {},
     "output_type": "display_data"
    {
     "data": {
      "text/plain": [
      ]
     },
     "metadata": {},
     "output_type": "display_data"
    }
   ],
   "source": [
    "fig = plt.figure(figsize=(5,5))\n",
    "ax = plt.subplot(111)\n",
    "ax.plot(cebra_posdir_model.state_dict_['loss'], c='deepskyblue', label = 'position+direction')\n",
    "ax.plot(cebra_pos_model.state_dict_['loss'], c='deepskyblue', alpha = 0.3, label = 'position')\n",
    "ax.plot(cebra_dir_model.state_dict_['loss'], c='deepskyblue', alpha=0.6,label = 'direction')\n",
    "ax.plot(cebra_posdir_shuffled_model.state_dict_['loss'], c='gray', label = 'pos+dir, shuffled')\n",
    "ax.plot(cebra_pos_shuffled_model.state_dict_['loss'], c='gray', alpha = 0.3, label = 'position, shuffled')\n",
    "ax.plot(cebra_dir_shuffled_model.state_dict_['loss'],c='gray', alpha=0.6,label = 'direction, shuffled')\n",
    "\n",
    "ax.spines['top'].set_visible(False)\n",
    "ax.spines['right'].set_visible(False)\n",
    "ax.set_xlabel('Iterations')\n",
    "ax.set_ylabel('InfoNCE Loss')\n",
    "plt.legend(bbox_to_anchor=(0.5,0.3), frameon = False )\n",
    "plt.show()"
   ]
  },
  {
   "cell_type": "markdown",
   "id": "6a921abf",
   "metadata": {},
   "source": [
    "### Decoding: we evaluate decoding performance of the different hypothesis models."
   ]
  },
  {
   "cell_type": "code",
   "id": "ba97a1c5",
   "metadata": {},
   "outputs": [],
   "source": [
    "# Define decoding function with kNN decoder. For a simple demo, we will use the fixed number of neighbors 36.\n",
    "\n",
    "from sklearn.neighbors import KNeighborsRegressor, KNeighborsClassifier\n",
    "import sklearn.metrics\n",
    "\n",
    "def decoding_pos_dir(emb_train, emb_test, label_train, label_test, n_neighbors=36):\n",
    "    pos_decoder = KNeighborsRegressor(n_neighbors, metric = 'cosine')\n",
    "    dir_decoder = KNeighborsClassifier(n_neighbors, metric = 'cosine')\n",
    "    \n",
    "    pos_decoder.fit(emb_train, label_train[:,0])\n",
    "    dir_decoder.fit(emb_train, label_train[:,1])\n",
    "    \n",
    "    pos_pred = pos_decoder.predict(emb_test)\n",
    "    dir_pred = dir_decoder.predict(emb_test)\n",
    "    \n",
    "    prediction =np.stack([pos_pred, dir_pred],axis = 1)\n",
    "\n",
    "    test_score = sklearn.metrics.r2_score(label_test[:,:2], prediction)\n",
    "    pos_test_err = np.median(abs(prediction[:,0] - label_test[:, 0]))\n",
    "    pos_test_score = sklearn.metrics.r2_score(label_test[:, 0], prediction[:,0])\n",
    "    \n",
    "    return test_score, pos_test_err, pos_test_score"
   ]
  },
  {
   "cell_type": "markdown",
   "id": "abe39376",
   "metadata": {},
   "source": [
    "- Decode the position and direction from the trained hypothesis models"
   ]
  },
  {
   "cell_type": "code",
   "id": "389afe84",
   "metadata": {},
   "outputs": [],
   "source": [
    "cebra_posdir_decode = decoding_pos_dir(cebra_posdir_train, cebra_posdir_test, label_train, label_test)\n",
    "cebra_pos_decode = decoding_pos_dir(cebra_pos_train, cebra_pos_test, label_train, label_test)\n",
    "cebra_dir_decode = decoding_pos_dir(cebra_dir_train, cebra_dir_test, label_train, label_test)\n",
    "cebra_posdir_shuffled_decode = decoding_pos_dir(cebra_posdir_shuffled_train, cebra_posdir_shuffled_test, label_train, label_test)\n",
    "cebra_pos_shuffled_decode = decoding_pos_dir(cebra_pos_shuffled_train, cebra_pos_shuffled_test, label_train, label_test)\n",
    "cebra_dir_shuffled_decode = decoding_pos_dir(cebra_dir_shuffled_train, cebra_dir_shuffled_test, label_train, label_test)\n"
   ]
  },
  {
   "cell_type": "markdown",
   "id": "b2ec095a",
   "metadata": {},
   "source": [
    "### Visualize the decoding results and loss - decoding performance"
   ]
  },
  {
   "cell_type": "code",
   "metadata": {},
   "source": [
    "fig = plt.figure(figsize=(10,4))\n",
    "ax1= plt.subplot(121)\n",
    "ax1.bar(np.arange(6), \n",
    "        [cebra_posdir_decode[1], cebra_pos_decode[1], cebra_dir_decode[1], \n",
    "         cebra_posdir_shuffled_decode[1], cebra_pos_shuffled_decode[1], cebra_dir_shuffled_decode[1]],\n",
    "         width = 0.5, color = 'gray')\n",
    "ax1.spines['top'].set_visible(False)\n",
    "ax1.spines['right'].set_visible(False)\n",
    "ax1.set_xticks(np.arange(6))\n",
    "ax1.set_xticklabels(['pos+dir', 'pos', 'dir', 'pos+dir,\\nshuffled', 'pos,\\nshuffled', 'dir,\\nshuffled'])\n",
    "ax1.set_ylabel('Median err. [m]')\n",
    "\n",
    "ax2 = plt.subplot(122)\n",
    "ax2.scatter(cebra_posdir_model.state_dict_['loss'][-1],cebra_posdir_decode[1], s=50, c='deepskyblue', label = 'position+direction')\n",
    "ax2.scatter(cebra_pos_model.state_dict_['loss'][-1],cebra_pos_decode[1], s=50, c='deepskyblue', alpha = 0.3, label = 'position_only')\n",
    "ax2.scatter(cebra_dir_model.state_dict_['loss'][-1],cebra_dir_decode[1], s=50, c='deepskyblue', alpha=0.6,label = 'direction_only')\n",
    "ax2.scatter(cebra_posdir_shuffled_model.state_dict_['loss'][-1],cebra_posdir_shuffled_decode[1], s=50, c='gray', label = 'pos+dir, shuffled')\n",
    "ax2.scatter(cebra_pos_shuffled_model.state_dict_['loss'][-1],cebra_pos_shuffled_decode[1], s=50, c='gray', alpha = 0.3, label = 'position, shuffled')\n",
    "ax2.scatter(cebra_dir_shuffled_model.state_dict_['loss'][-1],cebra_dir_shuffled_decode[1], s=50, c='gray', alpha=0.6,label = 'direction, shuffled')\n",
    "\n",
    "ax2.spines['top'].set_visible(False)\n",
    "ax2.spines['right'].set_visible(False)\n",
    "ax2.set_xlabel('InfoNCE Loss')\n",
    "ax2.set_ylabel('Decoding Median Err.')\n",
    "plt.legend(bbox_to_anchor=(1,1), frameon = False )\n",
    "plt.show()"
   ]
  },
  {
   "cell_type": "markdown",
   "id": "edcc3073",
   "metadata": {},
   "source": [
    "## Persistent cohomology analysis with CEBRA embeddings of varying output dimensions: "
   ]
  },
  {
   "cell_type": "markdown",
   "id": "92fef495",
   "metadata": {},
   "source": [
    "### Train additional CEBRA-Behavior with dimensions 8, 16"
   ]
  },
  {
   "cell_type": "code",
   "id": "717fe188",
   "metadata": {},
   "outputs": [],
   "source": [
    "cebra_posdir8_model= CEBRA(model_architecture='offset10-model',\n",
    "                        batch_size=512,\n",
    "                        learning_rate=3e-4,\n",
    "                        temperature=1,\n",
    "                        output_dimension=8,\n",
    "                        max_iterations=max_iterations,\n",
    "                        distance='cosine',\n",
    "                        conditional='time_delta',\n",
    "                        device='cuda_if_available',\n",
    "                        verbose=True,\n",
    "                        time_offsets=10)\n",
    "cebra_posdir16_model = CEBRA(model_architecture='offset10-model',\n",
    "                        batch_size=512,\n",
    "                        learning_rate=3e-4,\n",
    "                        temperature=1,\n",
    "                        output_dimension=16,\n",
    "                        max_iterations=max_iterations,\n",
    "                        distance='cosine',\n",
    "                        conditional='time_delta',\n",
    "                        device='cuda_if_available',\n",
    "                        verbose=True,\n",
    "                        time_offsets=10)"
   ]
  },
  {
   "cell_type": "code",
   "id": "621e40c3",
   "metadata": {},
   "outputs": [
    {
     "name": "stderr",
     "output_type": "stream",
     "text": [
     ]
    }
   ],
   "source": [
    "cebra_posdir8_model.fit(hippocampus_pos.neural, hippocampus_pos.continuous_index.numpy())\n",
    "cebra_posdir8 = cebra_posdir8_model.transform(hippocampus_pos.neural)\n",
    "\n",
    "cebra_posdir16_model.fit(hippocampus_pos.neural, hippocampus_pos.continuous_index.numpy())\n",
    "cebra_posdir16 = cebra_posdir16_model.transform(hippocampus_pos.neural)\n"
   ]
  },
  {
   "cell_type": "markdown",
   "id": "126fa8e9",
   "metadata": {},
   "source": [
    "### Plotting the results:\n"
   ]
  },
  {
   "cell_type": "code",
   "id": "ba85dcfb",
   "metadata": {
    "scrolled": true
   },
   "outputs": [
    {
     "data": {
      "text/plain": [
       "<IPython.core.display.Javascript object>"
      ]
     },
     "metadata": {},
     "output_type": "display_data"
    },
    {
     "data": {
      "text/html": [
      ],
      "text/plain": [
       "<IPython.core.display.HTML object>"
      ]
     },
     "metadata": {},
     "output_type": "display_data"
    }
   ],
   "source": [
    "fig = plt.figure(figsize = (10,3), dpi = 100)\n",
    "\n",
    "ax1 = plt.subplot(131,projection='3d')\n",
    "ax2 = plt.subplot(132, projection = '3d')\n",
    "ax3 = plt.subplot(133, projection = '3d')\n",
    "\n",
    "ax1=plot_hippocampus(ax1, cebra_posdir3, hippocampus_pos.continuous_index)\n",
    "ax2=plot_hippocampus(ax2, cebra_posdir8, hippocampus_pos.continuous_index)\n",
    "ax3=plot_hippocampus(ax3, cebra_posdir16, hippocampus_pos.continuous_index)\n",
    "\n",
    "ax1.set_title('CEBRA-Dim 3')\n",
    "ax2.set_title('CEBRA-Dim 8')\n",
    "ax3.set_title('CEBRA-Dim 16')\n",
    "plt.show()"
   ]
  },
  {
   "cell_type": "markdown",
   "id": "d5d50a20",
   "metadata": {},
   "source": [
    "## Topological Data Analysis:"
   ]
  },
  {
   "cell_type": "markdown",
   "id": "c2fb06d1",
   "metadata": {},
   "source": [
    "### Get random 1000 points of embeddings and do persistent cohomology analysis upto H1\n",
    "\n",
    "- note this requires the ripser package.\n",
    "- If you previously installed DREiMac (such as running this notebook before, there are some dependency clashes with ripser, so you need to uninstall it first, and reinstall risper:"
   ]
  },
  {
   "cell_type": "code",
   "id": "8cb76076",
   "metadata": {
    "scrolled": false
   },
   "source": [
    "!pip uninstall -y dreimac\n",
    "!pip uninstall -y cebra\n",
    "!pip uninstall -y ripser"
   ]
  },
  {
   "cell_type": "code",
   "id": "51e7440a",
   "metadata": {
   },
   "source": [
    "!pip install ripser\n",
    "#Depending on your system, this can cause errors.\n",
    "#Thus if issues please follow these instructions directly: https://pypi.org/project/ripser/\n",
    "import ripser"
   ]
  },
  {
   "cell_type": "markdown",
   "id": "5983f60b",
   "metadata": {},
   "source": [
    "- if you get the error `ValueError: numpy.ndarray size changed, may indicate binary incompatibility. Expected 96 from C header, got 80 from PyObject`, please delete the folders from DREiMac and run the cell above again. "
   ]
  },
  {
   "cell_type": "code",
   "id": "47b0a084",
   "metadata": {},
   "outputs": [],
   "source": [
    "maxdim=1 ## Set to 2 to compute upto H2. The computing time is considerably longer. For quick demo upto H1, set it to 1.\n",
    "np.random.seed(111)\n",
    "random_idx=np.random.permutation(np.arange(len(cebra_posdir3)))[:1000]\n",
    "topology_dimension = {}\n",
    "for embedding in [cebra_posdir3, cebra_posdir8, cebra_posdir16]:\n",
    "    ripser_output=ripser.ripser(embedding[random_idx], maxdim=maxdim, coeff=47)\n",
    "    dimension = embedding.shape[1]\n",
    "    topology_dimension[dimension] = ripser_output"
   ]
  },
  {
   "cell_type": "markdown",
   "id": "074549b5",
   "metadata": {},
   "source": [
    "### If you want to visualize the pre-computed persistent co-homology result:\n",
    "\n",
    "- preloading saves quite a bit of time; to adapt to your own datasets please set topology_dimension and random_inx."
   ]
  },
  {
   "cell_type": "code",
   "metadata": {},
   "outputs": [],
   "source": [
    "preload=pd.read_hdf(os.path.join(CURRENT_DIR,'rat_demo_example_output.h5'))\n",
    "random_idx = preload['embedding']['random_idx']\n",
   ]
  },
  {
   "cell_type": "code",
   "id": "729fa2d2",
   "metadata": {},
   "outputs": [],
   "source": [
    "def plot_barcode(topology_result, maxdim):\n",
    "    fig, axs = plt.subplots(maxdim+1, 1, sharex=True, figsize=(7, 8))\n",
    "    axs[0].set_xlim(0,2)\n",
    "    cocycle = [\"Points\", \"Loops\", \"Voids\"]\n",
    "    for k in range(maxdim+1):\n",
    "        bars = topology_result['dgms'][k]\n",
    "        bars[bars == np.inf] = 10\n",
    "        lc = (\n",
    "            np.vstack(\n",
    "                [\n",
    "                    bars[:, 0],\n",
    "                    np.arange(len(bars), dtype=int) * 6,\n",
    "                    bars[:, 1],\n",
    "                    np.arange(len(bars), dtype=int) * 6,\n",
    "                ]\n",
    "            )\n",
    "            .swapaxes(1, 0)\n",
    "            .reshape(-1, 2, 2)\n",
    "        )\n",
    "        line_segments = LineCollection(lc, linewidth=5, color=\"gray\", alpha=0.5)\n",
    "        axs[k].set_ylabel(cocycle[k], fontsize=20)\n",
    "        if k == 0:\n",
    "            axs[k].set_ylim(len(bars) * 6 - 120, len(bars) * 6)\n",
    "        elif k == 1:\n",
    "            axs[k].set_ylim(0, len(bars) * 1 - 30)\n",
    "        elif k == 2:\n",
    "            axs[k].set_ylim(0, len(bars) * 6 + 10)\n",
    "        axs[k].add_collection(line_segments)\n",
    "        axs[k].set_yticks([])\n",
    "        if k == 2:\n",
    "            axs[k].set_xticks(np.linspace(0, 2, 3), np\n",
    "                              .linspace(0, 2, 3), fontsize=15)\n",
    "            axs[k].set_xlabel(\"Lifespan\", fontsize=20)\n",
    "    \n",
    "    return fig "
   ]
  },
  {
   "cell_type": "code",
   "outputs": [
    {
     "data": {
      "text/plain": [
      ]
     },
     "metadata": {},
     "output_type": "display_data"
    },
    {
     "data": {
      "text/plain": [
      ]
     },
     "metadata": {},
     "output_type": "display_data"
    },
    {
     "data": {
      "text/plain": [
      ]
     },
     "metadata": {},
     "output_type": "display_data"
    }
   ],
   "source": [
    "%matplotlib inline\n",
    "for k in [3,8,16]:\n",
    "    fig=plot_barcode(topology_dimension[k], maxdim)\n",
    "    fig.suptitle(f'Dimension {k}')"
   ]
  },
  {
   "cell_type": "markdown",
   "id": "91f401a9",
   "metadata": {},
   "source": [
    "### Visualize topology-preserving circular coordinates from the first co-cycle.\n",
    "\n",
    "- This requires the DREiMac codebase. Here, we show you how to install their package:"
   ]
  },
  {
   "cell_type": "code",
   "id": "03127ee8",
   "metadata": {
    "scrolled": false
   },
   "source": [
   ]
  },
  {
   "cell_type": "code",
   "id": "dca4bbf3",
   "metadata": {},
   "outputs": [],
   "source": [
    "from dreimac import CircularCoords"
   ]
  },
  {
   "cell_type": "code",
   "id": "d6d378d5",
   "outputs": [
    {
     "data": {
      "text/plain": [
       "<Figure size 2000x600 with 3 Axes>"
      ]
     },
     "metadata": {},
     "output_type": "display_data"
    }
   ],
   "source": [
    "prime = 47\n",
    "dimension = [3,8,16]\n",
    "fig, axs = plt.subplots(1, 3, figsize=(10,3), dpi=200, subplot_kw={'projection': 'polar'})\n",
    "label = hippocampus_pos.continuous_index[random_idx]\n",
    "r_ind = label[:,1]==1\n",
    "l_ind = label[:,2]==1\n",
    "for i, embedding in enumerate([cebra_posdir3, cebra_posdir8, cebra_posdir16]):\n",
    "    rat_emb=embedding[random_idx]\n",
    "    cc = CircularCoords(rat_emb, 1000, prime = prime, )\n",
    "    radial_angle=cc.get_coordinates(cocycle_idx=[0])\n",
    "    r = np.ones(1000)\n",
    "    right=axs[i].scatter(radial_angle[r_ind], r[r_ind], s=5, c = label[r_ind,0], cmap = 'cool')\n",
    "    left=axs[i].scatter(radial_angle[l_ind], r[l_ind], s=5, c = label[l_ind,0], cmap = 'viridis')\n",
    "    axs[i].set_title(f'Dimension {dimension[i]}')\n",
    "plt.show()"
   ]
  },
  {
   "cell_type": "markdown",
   "id": "66635f80",
   "metadata": {},
   "source": [
    "### Visualize Polar coordinate (radial angle) vs. Position"
   ]
  },
  {
   "cell_type": "markdown",
   "id": "a91d32cb",
   "metadata": {},
   "source": [
    "###### if you want to preload our data, run the following, otherwise skip this cell:"
   ]
  },
  {
   "cell_type": "code",
   "id": "05f8ffb6",
   "metadata": {},
   "outputs": [],
   "source": [
    "cebra_pos3 = preload['embedding'][3]\n",
    "cebra_pos8 = preload['embedding'][8]\n",
    "cebra_pos16 = preload['embedding'][16]"
   ]
  },
  {
   "cell_type": "code",
   "id": "9a56ef55",
   "metadata": {},
   "outputs": [],
   "source": [
    "radial_angles = {}\n",
    "for i, embedding in enumerate([cebra_pos3, cebra_pos8, cebra_pos16]):\n",
    "    rat_emb=embedding[random_idx]\n",
    "    cc = CircularCoords(rat_emb, 1000, prime = prime, )\n",
    "    out=cc.get_coordinates()\n",
    "    radial_angles[dimension[i]] = out"
   ]
  },
  {
   "cell_type": "code",
   "id": "7dd85f1b",
   "metadata": {
    "scrolled": false
   },
   "outputs": [
    {
     "data": {
      "text/plain": [
       "<Figure size 700x600 with 2 Axes>"
      ]
     },
     "metadata": {},
     "output_type": "display_data"
    },
    {
     "data": {
      "text/plain": [
       "<Figure size 700x600 with 2 Axes>"
      ]
     },
     "metadata": {},
     "output_type": "display_data"
    },
    {
     "data": {
      "text/plain": [
       "<Figure size 700x600 with 2 Axes>"
      ]
     },
     "metadata": {},
     "output_type": "display_data"
    }
   ],
   "source": [
    "%matplotlib inline\n",
    "for k in radial_angles.keys():\n",
    "    fig=plt.figure(figsize=(7,6))\n",
    "    plt.subplots_adjust(wspace=0.3)\n",
    "    fig.suptitle(f'Dimension {k}')\n",
    "    ax1=plt.subplot(121)\n",
    "    ax1.scatter(radial_angles[k][r_ind], label[r_ind,0], s=1, c = 'gray')\n",
    "    ax1.set_xlabel('Radial angle [rad]')\n",
    "    ax1.set_ylabel('Position [m]')\n",
    "    ax2=plt.subplot(122)\n",
    "    ax2.scatter(radial_angles[k][l_ind], label[l_ind,0], s=1, c= 'gray')\n",
    "    ax2.set_xlabel('Radial angle [rad]')\n",
    "    ax2.set_ylabel('Position [m]')\n",
    "plt.show()"
   ]
  },
  {
   "cell_type": "markdown",
   "id": "336bfae0",
   "metadata": {},
   "source": [
   ]
  },
  {
   "cell_type": "code",
   "id": "66b2346f",
   "metadata": {},
   "outputs": [],
   "source": [
    "import sklearn.linear_model\n",
    "def lin_regression(radial_angles, labels):\n",
    "    def _to_cartesian(radial_angles):\n",
    "        x = np.cos(radial_angles)\n",
    "        y = np.sin(radial_angles)\n",
    "        return np.vstack([x,y]).T\n",
    "    cartesian = _to_cartesian(radial_angles)\n",
    "    lin = sklearn.linear_model.LinearRegression()\n",
    "    lin.fit(cartesian, labels)\n",
    "    \n",
    "    return lin.score(cartesian, labels)"
   ]
  },
  {
   "cell_type": "code",
   "id": "e58ca3b4",
   "metadata": {},
   "outputs": [
    {
     "name": "stdout",
     "output_type": "stream",
     "text": [
      "Dimension 3 Cycle angle into position\n",
      "Dimension 8 Cycle angle into position\n",
      "Dimension 16 Cycle angle into position\n",
     ]
    }
   ],
   "source": [
    "for k in radial_angles.keys():\n",
    "    print(f'Dimension {k} Cycle angle into position')\n",
    "    print(f'Right R2: {lin_regression(radial_angles[k][r_ind], label[r_ind,0])}')\n",
    "    print(f'Left R2: {lin_regression(radial_angles[k][l_ind], label[l_ind,0])}')\n",
    "    print(f'Total R2: {lin_regression(radial_angles[k], label[:,0])}')"
   ]
  },
  {
   "cell_type": "markdown",
   "id": "dd262c73",
   "metadata": {},
   "source": [
    "### Interactive plot to explore co-cycles and circular coordinates.\n",
    "- Top left panel is a lifespan diagram of persistent co-homology analysis.\n",
    "- Bottom left panel is a visualization of the first 2 dimensions of the used 1000 embedding points.\n",
    "- Bottom right panel is a circular coordinate obtained from the co-cycles.\n",
    "- For more information: https://github.com/ctralie/DREiMac"
   ]
  },
  {
   "cell_type": "code",
   "id": "209c057a",
   "metadata": {},
   "outputs": [
    {
     "name": "stderr",
     "output_type": "stream",
     "text": [
      "  warnings.warn(\"Could not accurately determine screen size\")\n"
     ]
    },
    {
     "data": {
      "text/plain": [
       "<IPython.core.display.Javascript object>"
      ]
     },
     "metadata": {},
     "output_type": "display_data"
    },
    {
     "data": {
      "text/html": [
      ],
      "text/plain": [
       "<IPython.core.display.HTML object>"
      ]
     },
     "metadata": {},
     "output_type": "display_data"
    }
   ],
   "source": [
    "## change the embedding to use. Here, we look at 3D embedding for posdir3 (position+dir, dim 3):\n",
    "X=cebra_posdir3[random_idx] \n",
    "\n",
    "%matplotlib notebook\n",
    "rl_stack=np.vstack([X[r_ind], X[l_ind]])\n",
    "label_stack = np.vstack([label[r_ind], label[l_ind]])\n",
    "\n",
    "c1 = plt.get_cmap('cool')\n",
    "C1 = c1(label[r_ind,0])\n",
    "c2 = plt.get_cmap('viridis')\n",
    "C2 = c2(label[l_ind,0])\n",
    "\n",
    "C = np.vstack([C1,C2])\n",
    "\n",
    "def plot_circles(ax):\n",
    "    ax.scatter(rl_stack[:, 0], rl_stack[:, 1], c=C)\n",
    "\n",
    "\n",
    "cc = CircularCoords(rl_stack, 1000, prime = prime)\n",
    "cc.plot_torii(C, coords_info=2, plots_in_one=3, lowerleft_plot=plot_circles)\n"
   ]
  }
 ],
 "metadata": {
  "kernelspec": {
   "display_name": "Python 3 (ipykernel)",
   "language": "python",
  },
  "language_info": {
   "codemirror_mode": {
    "name": "ipython",
    "version": 3
   },
   "file_extension": ".py",
   "mimetype": "text/x-python",
   "name": "python",
   "nbconvert_exporter": "python",
   "pygments_lexer": "ipython3",
   "version": "3.9.16"
  }
 },
 "nbformat": 4,
 "nbformat_minor": 5
}

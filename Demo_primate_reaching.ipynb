    "### Define a model that uses positional information as the auxililary variable: "
    "### Define a model that uses TARGET information as the auxililary variable: "
    "### Define a model that uses time only information: "

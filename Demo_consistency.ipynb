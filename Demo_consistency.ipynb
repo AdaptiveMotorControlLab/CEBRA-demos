    "!pip install 'cebra[datasets,demos]'"
    "from cebra import CEBRA"
    "                                                                                 dataset_ids=list(\n",
    "                                                                                 between=\"datasets\")\n",
    "                                                                                       dataset_ids=list(\n",
    "                                                                                       between=\"datasets\")\n"
    "ax1 = cebra.plot_consistency(time_scores, pairs=time_pairs, datasets=time_subjects,\n",
    "    posdir_scores, pairs=posdir_pairs, datasets=posdir_subjects, ax=ax2, title=\"CEBRA-Behavior\")\n"
   "display_name": "Python 3 (ipykernel)",
   "version": "3.9.16"

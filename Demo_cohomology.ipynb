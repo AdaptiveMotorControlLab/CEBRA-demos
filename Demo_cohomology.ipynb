    "!pip install 'cebra[datasets,demos]'"
    "from cebra import CEBRA"
   "display_name": "Python 3 (ipykernel)",
   "version": "3.9.16"
